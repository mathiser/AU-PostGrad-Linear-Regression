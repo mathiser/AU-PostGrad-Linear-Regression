{
 "cells": [
  {
   "cell_type": "code",
   "execution_count": 114,
   "id": "d2376f54-7655-49c9-94f3-b8ec492a95ca",
   "metadata": {},
   "outputs": [],
   "source": [
    "import numpy as np\n",
    "import pandas as pd\n",
    "import matplotlib.pyplot as plt\n",
    "from sklearn.linear_model import LinearRegression\n",
    "from scipy import stats\n",
    "import seaborn as sns\n",
    "import statsmodels.api as sm"
   ]
  },
  {
   "cell_type": "markdown",
   "id": "fce4ca39-f3b1-4f36-947d-ffd1a497bfc6",
   "metadata": {},
   "source": [
    "# Part A\n",
    "## 1\n",
    "- Linearitet\n",
    "    - Additivity\n",
    "    - Proportionality\n",
    "    - No Effect modification\n",
    "- Unexplained random deviations\n",
    "  - are independent\n",
    "  - same distribution (BA plots)\n",
    "  - Normal distributed"
   ]
  },
  {
   "cell_type": "code",
   "execution_count": 319,
   "id": "87f490f9-bc99-4a39-a82f-1ab371112f77",
   "metadata": {},
   "outputs": [],
   "source": [
    "lung = pd.read_stata(\"ds/lung.dta\")\n",
    "lung.sex = lung.sex.astype(\"category\")\n",
    "lung = lung.drop(columns=\"VC\")\n",
    "lung[\"sex_cat\"] = lung.sex.cat.codes\n",
    "\n",
    "lung = lung.dropna()"
   ]
  },
  {
   "cell_type": "code",
   "execution_count": 320,
   "id": "25b705af-7987-4157-89e1-279b04dfd038",
   "metadata": {},
   "outputs": [
    {
     "data": {
      "text/plain": [
       "0      0\n",
       "1      0\n",
       "2      0\n",
       "3      0\n",
       "4      0\n",
       "      ..\n",
       "97     1\n",
       "98     1\n",
       "99     1\n",
       "100    1\n",
       "101    1\n",
       "Length: 101, dtype: int8"
      ]
     },
     "execution_count": 320,
     "metadata": {},
     "output_type": "execute_result"
    }
   ],
   "source": [
    "lung.sex.cat.codes"
   ]
  },
  {
   "cell_type": "code",
   "execution_count": 321,
   "id": "6843462e-2767-4e08-9186-8980a1e62fbf",
   "metadata": {},
   "outputs": [],
   "source": [
    "X = lung[[\"height\", \"sex_cat\"]]\n",
    "y = lung[\"PEFR\"]"
   ]
  },
  {
   "cell_type": "code",
   "execution_count": 322,
   "id": "cc74a751-a08a-4dc4-ac57-1248a7bcde05",
   "metadata": {},
   "outputs": [],
   "source": [
    "X = sm.add_constant(X)"
   ]
  },
  {
   "cell_type": "code",
   "execution_count": 323,
   "id": "7eae61d1-8515-418b-b3b2-8729eba28405",
   "metadata": {},
   "outputs": [],
   "source": [
    "lung_model = sm.OLS(y, X).fit()"
   ]
  },
  {
   "cell_type": "code",
   "execution_count": 324,
   "id": "2b2b756b-5bfd-4ba0-8bc3-2ad9ca6f06e4",
   "metadata": {},
   "outputs": [
    {
     "data": {
      "text/html": [
       "<table class=\"simpletable\">\n",
       "<caption>OLS Regression Results</caption>\n",
       "<tr>\n",
       "  <th>Dep. Variable:</th>          <td>PEFR</td>       <th>  R-squared:         </th> <td>   0.486</td>\n",
       "</tr>\n",
       "<tr>\n",
       "  <th>Model:</th>                   <td>OLS</td>       <th>  Adj. R-squared:    </th> <td>   0.475</td>\n",
       "</tr>\n",
       "<tr>\n",
       "  <th>Method:</th>             <td>Least Squares</td>  <th>  F-statistic:       </th> <td>   46.27</td>\n",
       "</tr>\n",
       "<tr>\n",
       "  <th>Date:</th>             <td>Fri, 17 Nov 2023</td> <th>  Prob (F-statistic):</th> <td>7.09e-15</td>\n",
       "</tr>\n",
       "<tr>\n",
       "  <th>Time:</th>                 <td>13:33:37</td>     <th>  Log-Likelihood:    </th> <td> -543.87</td>\n",
       "</tr>\n",
       "<tr>\n",
       "  <th>No. Observations:</th>      <td>   101</td>      <th>  AIC:               </th> <td>   1094.</td>\n",
       "</tr>\n",
       "<tr>\n",
       "  <th>Df Residuals:</th>          <td>    98</td>      <th>  BIC:               </th> <td>   1102.</td>\n",
       "</tr>\n",
       "<tr>\n",
       "  <th>Df Model:</th>              <td>     2</td>      <th>                     </th>     <td> </td>   \n",
       "</tr>\n",
       "<tr>\n",
       "  <th>Covariance Type:</th>      <td>nonrobust</td>    <th>                     </th>     <td> </td>   \n",
       "</tr>\n",
       "</table>\n",
       "<table class=\"simpletable\">\n",
       "<tr>\n",
       "     <td></td>        <th>coef</th>     <th>std err</th>      <th>t</th>      <th>P>|t|</th>  <th>[0.025</th>    <th>0.975]</th>  \n",
       "</tr>\n",
       "<tr>\n",
       "  <th>const</th>   <td> -110.9974</td> <td>  145.177</td> <td>   -0.765</td> <td> 0.446</td> <td> -399.096</td> <td>  177.101</td>\n",
       "</tr>\n",
       "<tr>\n",
       "  <th>height</th>  <td>    3.5255</td> <td>    0.873</td> <td>    4.036</td> <td> 0.000</td> <td>    1.792</td> <td>    5.259</td>\n",
       "</tr>\n",
       "<tr>\n",
       "  <th>sex_cat</th> <td>   54.1594</td> <td>   14.639</td> <td>    3.700</td> <td> 0.000</td> <td>   25.108</td> <td>   83.211</td>\n",
       "</tr>\n",
       "</table>\n",
       "<table class=\"simpletable\">\n",
       "<tr>\n",
       "  <th>Omnibus:</th>       <td>15.571</td> <th>  Durbin-Watson:     </th> <td>   2.264</td>\n",
       "</tr>\n",
       "<tr>\n",
       "  <th>Prob(Omnibus):</th> <td> 0.000</td> <th>  Jarque-Bera (JB):  </th> <td>  28.076</td>\n",
       "</tr>\n",
       "<tr>\n",
       "  <th>Skew:</th>          <td> 0.614</td> <th>  Prob(JB):          </th> <td>8.01e-07</td>\n",
       "</tr>\n",
       "<tr>\n",
       "  <th>Kurtosis:</th>      <td> 5.272</td> <th>  Cond. No.          </th> <td>4.71e+03</td>\n",
       "</tr>\n",
       "</table><br/><br/>Notes:<br/>[1] Standard Errors assume that the covariance matrix of the errors is correctly specified.<br/>[2] The condition number is large, 4.71e+03. This might indicate that there are<br/>strong multicollinearity or other numerical problems."
      ],
      "text/latex": [
       "\\begin{center}\n",
       "\\begin{tabular}{lclc}\n",
       "\\toprule\n",
       "\\textbf{Dep. Variable:}    &       PEFR       & \\textbf{  R-squared:         } &     0.486   \\\\\n",
       "\\textbf{Model:}            &       OLS        & \\textbf{  Adj. R-squared:    } &     0.475   \\\\\n",
       "\\textbf{Method:}           &  Least Squares   & \\textbf{  F-statistic:       } &     46.27   \\\\\n",
       "\\textbf{Date:}             & Fri, 17 Nov 2023 & \\textbf{  Prob (F-statistic):} &  7.09e-15   \\\\\n",
       "\\textbf{Time:}             &     13:33:37     & \\textbf{  Log-Likelihood:    } &   -543.87   \\\\\n",
       "\\textbf{No. Observations:} &         101      & \\textbf{  AIC:               } &     1094.   \\\\\n",
       "\\textbf{Df Residuals:}     &          98      & \\textbf{  BIC:               } &     1102.   \\\\\n",
       "\\textbf{Df Model:}         &           2      & \\textbf{                     } &             \\\\\n",
       "\\textbf{Covariance Type:}  &    nonrobust     & \\textbf{                     } &             \\\\\n",
       "\\bottomrule\n",
       "\\end{tabular}\n",
       "\\begin{tabular}{lcccccc}\n",
       "                  & \\textbf{coef} & \\textbf{std err} & \\textbf{t} & \\textbf{P$> |$t$|$} & \\textbf{[0.025} & \\textbf{0.975]}  \\\\\n",
       "\\midrule\n",
       "\\textbf{const}    &    -110.9974  &      145.177     &    -0.765  &         0.446        &     -399.096    &      177.101     \\\\\n",
       "\\textbf{height}   &       3.5255  &        0.873     &     4.036  &         0.000        &        1.792    &        5.259     \\\\\n",
       "\\textbf{sex\\_cat} &      54.1594  &       14.639     &     3.700  &         0.000        &       25.108    &       83.211     \\\\\n",
       "\\bottomrule\n",
       "\\end{tabular}\n",
       "\\begin{tabular}{lclc}\n",
       "\\textbf{Omnibus:}       & 15.571 & \\textbf{  Durbin-Watson:     } &    2.264  \\\\\n",
       "\\textbf{Prob(Omnibus):} &  0.000 & \\textbf{  Jarque-Bera (JB):  } &   28.076  \\\\\n",
       "\\textbf{Skew:}          &  0.614 & \\textbf{  Prob(JB):          } & 8.01e-07  \\\\\n",
       "\\textbf{Kurtosis:}      &  5.272 & \\textbf{  Cond. No.          } & 4.71e+03  \\\\\n",
       "\\bottomrule\n",
       "\\end{tabular}\n",
       "%\\caption{OLS Regression Results}\n",
       "\\end{center}\n",
       "\n",
       "Notes: \\newline\n",
       " [1] Standard Errors assume that the covariance matrix of the errors is correctly specified. \\newline\n",
       " [2] The condition number is large, 4.71e+03. This might indicate that there are \\newline\n",
       " strong multicollinearity or other numerical problems."
      ],
      "text/plain": [
       "<class 'statsmodels.iolib.summary.Summary'>\n",
       "\"\"\"\n",
       "                            OLS Regression Results                            \n",
       "==============================================================================\n",
       "Dep. Variable:                   PEFR   R-squared:                       0.486\n",
       "Model:                            OLS   Adj. R-squared:                  0.475\n",
       "Method:                 Least Squares   F-statistic:                     46.27\n",
       "Date:                Fri, 17 Nov 2023   Prob (F-statistic):           7.09e-15\n",
       "Time:                        13:33:37   Log-Likelihood:                -543.87\n",
       "No. Observations:                 101   AIC:                             1094.\n",
       "Df Residuals:                      98   BIC:                             1102.\n",
       "Df Model:                           2                                         \n",
       "Covariance Type:            nonrobust                                         \n",
       "==============================================================================\n",
       "                 coef    std err          t      P>|t|      [0.025      0.975]\n",
       "------------------------------------------------------------------------------\n",
       "const       -110.9974    145.177     -0.765      0.446    -399.096     177.101\n",
       "height         3.5255      0.873      4.036      0.000       1.792       5.259\n",
       "sex_cat       54.1594     14.639      3.700      0.000      25.108      83.211\n",
       "==============================================================================\n",
       "Omnibus:                       15.571   Durbin-Watson:                   2.264\n",
       "Prob(Omnibus):                  0.000   Jarque-Bera (JB):               28.076\n",
       "Skew:                           0.614   Prob(JB):                     8.01e-07\n",
       "Kurtosis:                       5.272   Cond. No.                     4.71e+03\n",
       "==============================================================================\n",
       "\n",
       "Notes:\n",
       "[1] Standard Errors assume that the covariance matrix of the errors is correctly specified.\n",
       "[2] The condition number is large, 4.71e+03. This might indicate that there are\n",
       "strong multicollinearity or other numerical problems.\n",
       "\"\"\""
      ]
     },
     "execution_count": 324,
     "metadata": {},
     "output_type": "execute_result"
    }
   ],
   "source": [
    "lung_model.summary()"
   ]
  },
  {
   "cell_type": "code",
   "execution_count": 325,
   "id": "55976c8c-2d3d-4729-b41a-2cb69b4e0de0",
   "metadata": {},
   "outputs": [],
   "source": [
    "lung[\"PEFR_pred\"] = lung_model.predict(X)\n",
    "lung[\"PEFR_res\"] = lung[\"PEFR\"] -lung[\"PEFR_pred\"] "
   ]
  },
  {
   "cell_type": "code",
   "execution_count": 326,
   "id": "06823b95-aad4-43b3-a246-ec7756bd242c",
   "metadata": {},
   "outputs": [
    {
     "data": {
      "text/html": [
       "<div>\n",
       "<style scoped>\n",
       "    .dataframe tbody tr th:only-of-type {\n",
       "        vertical-align: middle;\n",
       "    }\n",
       "\n",
       "    .dataframe tbody tr th {\n",
       "        vertical-align: top;\n",
       "    }\n",
       "\n",
       "    .dataframe thead th {\n",
       "        text-align: right;\n",
       "    }\n",
       "</style>\n",
       "<table border=\"1\" class=\"dataframe\">\n",
       "  <thead>\n",
       "    <tr style=\"text-align: right;\">\n",
       "      <th></th>\n",
       "      <th>number</th>\n",
       "      <th>sex</th>\n",
       "      <th>height</th>\n",
       "      <th>PEFR</th>\n",
       "      <th>sex_cat</th>\n",
       "      <th>PEFR_pred</th>\n",
       "      <th>PEFR_res</th>\n",
       "    </tr>\n",
       "  </thead>\n",
       "  <tbody>\n",
       "    <tr>\n",
       "      <th>0</th>\n",
       "      <td>1</td>\n",
       "      <td>female</td>\n",
       "      <td>181</td>\n",
       "      <td>522.0</td>\n",
       "      <td>0</td>\n",
       "      <td>527.116078</td>\n",
       "      <td>-5.116078</td>\n",
       "    </tr>\n",
       "    <tr>\n",
       "      <th>1</th>\n",
       "      <td>2</td>\n",
       "      <td>female</td>\n",
       "      <td>168</td>\n",
       "      <td>440.0</td>\n",
       "      <td>0</td>\n",
       "      <td>481.284722</td>\n",
       "      <td>-41.284722</td>\n",
       "    </tr>\n",
       "    <tr>\n",
       "      <th>2</th>\n",
       "      <td>3</td>\n",
       "      <td>female</td>\n",
       "      <td>163</td>\n",
       "      <td>428.0</td>\n",
       "      <td>0</td>\n",
       "      <td>463.657277</td>\n",
       "      <td>-35.657277</td>\n",
       "    </tr>\n",
       "    <tr>\n",
       "      <th>3</th>\n",
       "      <td>4</td>\n",
       "      <td>female</td>\n",
       "      <td>171</td>\n",
       "      <td>537.0</td>\n",
       "      <td>0</td>\n",
       "      <td>491.861188</td>\n",
       "      <td>45.138812</td>\n",
       "    </tr>\n",
       "    <tr>\n",
       "      <th>4</th>\n",
       "      <td>5</td>\n",
       "      <td>female</td>\n",
       "      <td>177</td>\n",
       "      <td>513.0</td>\n",
       "      <td>0</td>\n",
       "      <td>513.014122</td>\n",
       "      <td>-0.014122</td>\n",
       "    </tr>\n",
       "    <tr>\n",
       "      <th>...</th>\n",
       "      <td>...</td>\n",
       "      <td>...</td>\n",
       "      <td>...</td>\n",
       "      <td>...</td>\n",
       "      <td>...</td>\n",
       "      <td>...</td>\n",
       "      <td>...</td>\n",
       "    </tr>\n",
       "    <tr>\n",
       "      <th>97</th>\n",
       "      <td>98</td>\n",
       "      <td>male</td>\n",
       "      <td>183</td>\n",
       "      <td>628.0</td>\n",
       "      <td>1</td>\n",
       "      <td>588.326497</td>\n",
       "      <td>39.673503</td>\n",
       "    </tr>\n",
       "    <tr>\n",
       "      <th>98</th>\n",
       "      <td>99</td>\n",
       "      <td>male</td>\n",
       "      <td>172</td>\n",
       "      <td>550.0</td>\n",
       "      <td>1</td>\n",
       "      <td>549.546119</td>\n",
       "      <td>0.453881</td>\n",
       "    </tr>\n",
       "    <tr>\n",
       "      <th>99</th>\n",
       "      <td>100</td>\n",
       "      <td>male</td>\n",
       "      <td>181</td>\n",
       "      <td>600.0</td>\n",
       "      <td>1</td>\n",
       "      <td>581.275519</td>\n",
       "      <td>18.724481</td>\n",
       "    </tr>\n",
       "    <tr>\n",
       "      <th>100</th>\n",
       "      <td>101</td>\n",
       "      <td>male</td>\n",
       "      <td>170</td>\n",
       "      <td>547.0</td>\n",
       "      <td>1</td>\n",
       "      <td>542.495141</td>\n",
       "      <td>4.504859</td>\n",
       "    </tr>\n",
       "    <tr>\n",
       "      <th>101</th>\n",
       "      <td>102</td>\n",
       "      <td>male</td>\n",
       "      <td>171</td>\n",
       "      <td>575.0</td>\n",
       "      <td>1</td>\n",
       "      <td>546.020630</td>\n",
       "      <td>28.979370</td>\n",
       "    </tr>\n",
       "  </tbody>\n",
       "</table>\n",
       "<p>101 rows × 7 columns</p>\n",
       "</div>"
      ],
      "text/plain": [
       "     number     sex  height   PEFR  sex_cat   PEFR_pred   PEFR_res\n",
       "0         1  female     181  522.0        0  527.116078  -5.116078\n",
       "1         2  female     168  440.0        0  481.284722 -41.284722\n",
       "2         3  female     163  428.0        0  463.657277 -35.657277\n",
       "3         4  female     171  537.0        0  491.861188  45.138812\n",
       "4         5  female     177  513.0        0  513.014122  -0.014122\n",
       "..      ...     ...     ...    ...      ...         ...        ...\n",
       "97       98    male     183  628.0        1  588.326497  39.673503\n",
       "98       99    male     172  550.0        1  549.546119   0.453881\n",
       "99      100    male     181  600.0        1  581.275519  18.724481\n",
       "100     101    male     170  547.0        1  542.495141   4.504859\n",
       "101     102    male     171  575.0        1  546.020630  28.979370\n",
       "\n",
       "[101 rows x 7 columns]"
      ]
     },
     "execution_count": 326,
     "metadata": {},
     "output_type": "execute_result"
    }
   ],
   "source": [
    "lung"
   ]
  },
  {
   "cell_type": "code",
   "execution_count": null,
   "id": "1a6e6051-39f8-45a2-a7ff-41530fe8e39a",
   "metadata": {},
   "outputs": [],
   "source": []
  },
  {
   "cell_type": "markdown",
   "id": "02536133-2b48-44c1-9e93-0c5c36464887",
   "metadata": {},
   "source": [
    "## 3 and 4\n",
    "It is the same for both 160 and 170\n",
    "Women have 54,1584 l/min lower PEFR than men of same height\n"
   ]
  },
  {
   "cell_type": "code",
   "execution_count": 140,
   "id": "29d7cd84-eba4-4560-bb01-45ae27bcf2e6",
   "metadata": {},
   "outputs": [
    {
     "data": {
      "image/png": "[encoded data removed]",
      "text/plain": [
       "<Figure size 640x480 with 1 Axes>"
      ]
     },
     "metadata": {},
     "output_type": "display_data"
    }
   ],
   "source": [
    "# \n",
    "stats.probplot(lung.PEFR_res, dist=\"norm\", plot=plt)\n",
    "plt.show()"
   ]
  },
  {
   "cell_type": "code",
   "execution_count": 151,
   "id": "a0c988be-8fbb-4073-a36a-d07abd1ffcb2",
   "metadata": {},
   "outputs": [
    {
     "data": {
      "text/plain": [
       "<matplotlib.collections.LineCollection at 0x7fc445d70730>"
      ]
     },
     "execution_count": 151,
     "metadata": {},
     "output_type": "execute_result"
    },
    {
     "data": {
      "image/png": "[encoded data removed]",
      "text/plain": [
       "<Figure size 640x480 with 1 Axes>"
      ]
     },
     "metadata": {},
     "output_type": "display_data"
    }
   ],
   "source": [
    "plt.scatter(lung.PEFR_pred, lung.PEFR_res)\n",
    "plt.hlines(0, xmin=400, xmax=650)"
   ]
  },
  {
   "cell_type": "code",
   "execution_count": 155,
   "id": "d1eedac3-6b39-48bc-b469-0d13c3e6db9c",
   "metadata": {},
   "outputs": [
    {
     "data": {
      "text/plain": [
       "<matplotlib.collections.LineCollection at 0x7fc4472d9a50>"
      ]
     },
     "execution_count": 155,
     "metadata": {},
     "output_type": "execute_result"
    },
    {
     "data": {
      "image/png": "[encoded data removed]",
      "text/plain": [
       "<Figure size 640x480 with 1 Axes>"
      ]
     },
     "metadata": {},
     "output_type": "display_data"
    }
   ],
   "source": [
    "plt.scatter(lung.height, lung.PEFR_res)\n",
    "plt.hlines(0, xmin=150, xmax=200)"
   ]
  },
  {
   "cell_type": "code",
   "execution_count": 161,
   "id": "dfca354a-0c23-4303-b9f8-a257650e35ef",
   "metadata": {},
   "outputs": [
    {
     "data": {
      "text/plain": [
       "<Axes: xlabel='sex_cat', ylabel='PEFR_res'>"
      ]
     },
     "execution_count": 161,
     "metadata": {},
     "output_type": "execute_result"
    },
    {
     "data": {
      "image/png": "[encoded data removed]",
      "text/plain": [
       "<Figure size 640x480 with 1 Axes>"
      ]
     },
     "metadata": {},
     "output_type": "display_data"
    }
   ],
   "source": [
    "sns.boxplot(lung, y=\"PEFR_res\", x=\"sex_cat\")\n"
   ]
  },
  {
   "cell_type": "markdown",
   "id": "ac48dd2f-c06c-4002-aac8-91a4590e581f",
   "metadata": {},
   "source": [
    "## 5"
   ]
  },
  {
   "cell_type": "code",
   "execution_count": 167,
   "id": "bb901e8b-dc55-4b0f-82e0-00e36ad56b2b",
   "metadata": {},
   "outputs": [],
   "source": [
    "influence = lung_model.get_influence()"
   ]
  },
  {
   "cell_type": "code",
   "execution_count": 186,
   "id": "a5f43116-a168-47a0-aff9-a4d9bbab9131",
   "metadata": {},
   "outputs": [],
   "source": [
    "leverage = influence.hat_matrix_diag\n",
    "resid = np.power(lung_model.resid, 2)"
   ]
  },
  {
   "cell_type": "code",
   "execution_count": 189,
   "id": "fbd8d922-0c1f-4f95-95a2-30273ec6dc71",
   "metadata": {},
   "outputs": [
    {
     "data": {
      "text/plain": [
       "Text(0.5, 1.0, 'Residuals vs Leverage Plot')"
      ]
     },
     "execution_count": 189,
     "metadata": {},
     "output_type": "execute_result"
    },
    {
     "data": {
      "image/png": "[encoded data removed]",
      "text/plain": [
       "<Figure size 640x480 with 1 Axes>"
      ]
     },
     "metadata": {},
     "output_type": "display_data"
    }
   ],
   "source": [
    "# Residual vs Leverage Plot \n",
    "fig, ax = plt.subplots() \n",
    "sns.scatterplot(x=resid, y=leverage, ax=ax) \n",
    "ax.axhline(y=0, color='grey', linestyle='dashed') \n",
    "ax.set_ylabel('Leverage') \n",
    "ax.set_xlabel('Sqrt(standardized residuals)') \n",
    "ax.set_title('Residuals vs Leverage Plot') "
   ]
  },
  {
   "cell_type": "code",
   "execution_count": 190,
   "id": "6ed62dde-3fbc-4d42-bce3-55b336862363",
   "metadata": {},
   "outputs": [
    {
     "data": {
      "text/plain": [
       "number               84\n",
       "sex                male\n",
       "height              170\n",
       "PEFR              553.0\n",
       "sex_cat               0\n",
       "PEFR_res      10.504859\n",
       "PEFR_pred    542.495141\n",
       "Name: 83, dtype: object"
      ]
     },
     "execution_count": 190,
     "metadata": {},
     "output_type": "execute_result"
    }
   ],
   "source": [
    "lung[82]"
   ]
  },
  {
   "cell_type": "code",
   "execution_count": null,
   "id": "483886b5-23a2-4a9f-bcfa-d146c43e6cb5",
   "metadata": {},
   "outputs": [],
   "source": []
  },
  {
   "cell_type": "markdown",
   "id": "04c94c3e-61b8-4ae7-a093-f10273e344c0",
   "metadata": {},
   "source": [
    "# part B"
   ]
  },
  {
   "cell_type": "code",
   "execution_count": 290,
   "id": "fa99ab54-2b1d-49c5-87c6-ca5467dfeba5",
   "metadata": {},
   "outputs": [],
   "source": [
    "fram = pd.read_stata(\"ds/fram200.dta\")\n",
    "fram[\"sbp_ln\"] = np.log(fram.sbp)\n",
    "fram[\"age50\"] = fram.age - 50\n",
    "fram[\"age50_sq\"] = np.power(fram.age,2)\n",
    "\n",
    "fram[\"sex_cat\"] = 0\n",
    "fram.loc[fram.sex == \"Women\", \"sex_cat\"] = 1 \n",
    "fram[\"bmi22_ln\"] = np.log((fram.bmi / 22))\n",
    "fram[\"dum\"] = 1"
   ]
  },
  {
   "cell_type": "code",
   "execution_count": 245,
   "id": "8054c914-564d-4292-bd2f-ad8afe98e284",
   "metadata": {},
   "outputs": [
    {
     "data": {
      "text/html": [
       "<div>\n",
       "<style scoped>\n",
       "    .dataframe tbody tr th:only-of-type {\n",
       "        vertical-align: middle;\n",
       "    }\n",
       "\n",
       "    .dataframe tbody tr th {\n",
       "        vertical-align: top;\n",
       "    }\n",
       "\n",
       "    .dataframe thead th {\n",
       "        text-align: right;\n",
       "    }\n",
       "</style>\n",
       "<table border=\"1\" class=\"dataframe\">\n",
       "  <thead>\n",
       "    <tr style=\"text-align: right;\">\n",
       "      <th></th>\n",
       "      <th>sex</th>\n",
       "      <th>sbp</th>\n",
       "      <th>dbp</th>\n",
       "      <th>scl</th>\n",
       "      <th>chdfate</th>\n",
       "      <th>followup</th>\n",
       "      <th>age</th>\n",
       "      <th>bmi</th>\n",
       "      <th>month</th>\n",
       "      <th>id</th>\n",
       "      <th>sbp_ln</th>\n",
       "      <th>age50</th>\n",
       "      <th>sex_cat</th>\n",
       "      <th>bmi22_ln</th>\n",
       "      <th>dum</th>\n",
       "    </tr>\n",
       "  </thead>\n",
       "  <tbody>\n",
       "    <tr>\n",
       "      <th>0</th>\n",
       "      <td>Men</td>\n",
       "      <td>135.0</td>\n",
       "      <td>75.0</td>\n",
       "      <td>185.0</td>\n",
       "      <td>Censored</td>\n",
       "      <td>11688.0</td>\n",
       "      <td>43.0</td>\n",
       "      <td>20.200001</td>\n",
       "      <td>12.0</td>\n",
       "      <td>4539.0</td>\n",
       "      <td>4.905275</td>\n",
       "      <td>-7.0</td>\n",
       "      <td>0</td>\n",
       "      <td>-0.085360</td>\n",
       "      <td>1</td>\n",
       "    </tr>\n",
       "    <tr>\n",
       "      <th>1</th>\n",
       "      <td>Women</td>\n",
       "      <td>125.0</td>\n",
       "      <td>75.0</td>\n",
       "      <td>246.0</td>\n",
       "      <td>Censored</td>\n",
       "      <td>11688.0</td>\n",
       "      <td>41.0</td>\n",
       "      <td>22.299999</td>\n",
       "      <td>6.0</td>\n",
       "      <td>2498.0</td>\n",
       "      <td>4.828314</td>\n",
       "      <td>-9.0</td>\n",
       "      <td>1</td>\n",
       "      <td>0.013544</td>\n",
       "      <td>1</td>\n",
       "    </tr>\n",
       "    <tr>\n",
       "      <th>2</th>\n",
       "      <td>Men</td>\n",
       "      <td>125.0</td>\n",
       "      <td>80.0</td>\n",
       "      <td>224.0</td>\n",
       "      <td>Censored</td>\n",
       "      <td>11688.0</td>\n",
       "      <td>38.0</td>\n",
       "      <td>20.299999</td>\n",
       "      <td>8.0</td>\n",
       "      <td>2826.0</td>\n",
       "      <td>4.828314</td>\n",
       "      <td>-12.0</td>\n",
       "      <td>0</td>\n",
       "      <td>-0.080422</td>\n",
       "      <td>1</td>\n",
       "    </tr>\n",
       "    <tr>\n",
       "      <th>3</th>\n",
       "      <td>Men</td>\n",
       "      <td>126.0</td>\n",
       "      <td>84.0</td>\n",
       "      <td>200.0</td>\n",
       "      <td>Censored</td>\n",
       "      <td>6555.0</td>\n",
       "      <td>56.0</td>\n",
       "      <td>27.700001</td>\n",
       "      <td>12.0</td>\n",
       "      <td>4594.0</td>\n",
       "      <td>4.836282</td>\n",
       "      <td>6.0</td>\n",
       "      <td>0</td>\n",
       "      <td>0.230390</td>\n",
       "      <td>1</td>\n",
       "    </tr>\n",
       "    <tr>\n",
       "      <th>4</th>\n",
       "      <td>Women</td>\n",
       "      <td>140.0</td>\n",
       "      <td>82.0</td>\n",
       "      <td>368.0</td>\n",
       "      <td>CHD</td>\n",
       "      <td>3515.0</td>\n",
       "      <td>61.0</td>\n",
       "      <td>29.100000</td>\n",
       "      <td>10.0</td>\n",
       "      <td>3791.0</td>\n",
       "      <td>4.941642</td>\n",
       "      <td>11.0</td>\n",
       "      <td>1</td>\n",
       "      <td>0.279696</td>\n",
       "      <td>1</td>\n",
       "    </tr>\n",
       "    <tr>\n",
       "      <th>...</th>\n",
       "      <td>...</td>\n",
       "      <td>...</td>\n",
       "      <td>...</td>\n",
       "      <td>...</td>\n",
       "      <td>...</td>\n",
       "      <td>...</td>\n",
       "      <td>...</td>\n",
       "      <td>...</td>\n",
       "      <td>...</td>\n",
       "      <td>...</td>\n",
       "      <td>...</td>\n",
       "      <td>...</td>\n",
       "      <td>...</td>\n",
       "      <td>...</td>\n",
       "      <td>...</td>\n",
       "    </tr>\n",
       "    <tr>\n",
       "      <th>195</th>\n",
       "      <td>Men</td>\n",
       "      <td>160.0</td>\n",
       "      <td>96.0</td>\n",
       "      <td>284.0</td>\n",
       "      <td>CHD</td>\n",
       "      <td>4464.0</td>\n",
       "      <td>39.0</td>\n",
       "      <td>27.400000</td>\n",
       "      <td>4.0</td>\n",
       "      <td>1582.0</td>\n",
       "      <td>5.075174</td>\n",
       "      <td>-11.0</td>\n",
       "      <td>0</td>\n",
       "      <td>0.219501</td>\n",
       "      <td>1</td>\n",
       "    </tr>\n",
       "    <tr>\n",
       "      <th>196</th>\n",
       "      <td>Men</td>\n",
       "      <td>144.0</td>\n",
       "      <td>80.0</td>\n",
       "      <td>200.0</td>\n",
       "      <td>Censored</td>\n",
       "      <td>11688.0</td>\n",
       "      <td>36.0</td>\n",
       "      <td>26.100000</td>\n",
       "      <td>1.0</td>\n",
       "      <td>143.0</td>\n",
       "      <td>4.969813</td>\n",
       "      <td>-14.0</td>\n",
       "      <td>0</td>\n",
       "      <td>0.170893</td>\n",
       "      <td>1</td>\n",
       "    </tr>\n",
       "    <tr>\n",
       "      <th>197</th>\n",
       "      <td>Women</td>\n",
       "      <td>115.0</td>\n",
       "      <td>75.0</td>\n",
       "      <td>234.0</td>\n",
       "      <td>Censored</td>\n",
       "      <td>11688.0</td>\n",
       "      <td>44.0</td>\n",
       "      <td>21.600000</td>\n",
       "      <td>11.0</td>\n",
       "      <td>4100.0</td>\n",
       "      <td>4.744932</td>\n",
       "      <td>-6.0</td>\n",
       "      <td>1</td>\n",
       "      <td>-0.018349</td>\n",
       "      <td>1</td>\n",
       "    </tr>\n",
       "    <tr>\n",
       "      <th>198</th>\n",
       "      <td>Women</td>\n",
       "      <td>120.0</td>\n",
       "      <td>84.0</td>\n",
       "      <td>192.0</td>\n",
       "      <td>Censored</td>\n",
       "      <td>11688.0</td>\n",
       "      <td>35.0</td>\n",
       "      <td>28.700001</td>\n",
       "      <td>10.0</td>\n",
       "      <td>3565.0</td>\n",
       "      <td>4.787492</td>\n",
       "      <td>-15.0</td>\n",
       "      <td>1</td>\n",
       "      <td>0.265855</td>\n",
       "      <td>1</td>\n",
       "    </tr>\n",
       "    <tr>\n",
       "      <th>199</th>\n",
       "      <td>Women</td>\n",
       "      <td>104.0</td>\n",
       "      <td>78.0</td>\n",
       "      <td>231.0</td>\n",
       "      <td>Censored</td>\n",
       "      <td>11688.0</td>\n",
       "      <td>40.0</td>\n",
       "      <td>22.799999</td>\n",
       "      <td>11.0</td>\n",
       "      <td>4011.0</td>\n",
       "      <td>4.644391</td>\n",
       "      <td>-10.0</td>\n",
       "      <td>1</td>\n",
       "      <td>0.035718</td>\n",
       "      <td>1</td>\n",
       "    </tr>\n",
       "  </tbody>\n",
       "</table>\n",
       "<p>200 rows × 15 columns</p>\n",
       "</div>"
      ],
      "text/plain": [
       "       sex    sbp   dbp    scl   chdfate  followup   age        bmi  month  \\\n",
       "0      Men  135.0  75.0  185.0  Censored   11688.0  43.0  20.200001   12.0   \n",
       "1    Women  125.0  75.0  246.0  Censored   11688.0  41.0  22.299999    6.0   \n",
       "2      Men  125.0  80.0  224.0  Censored   11688.0  38.0  20.299999    8.0   \n",
       "3      Men  126.0  84.0  200.0  Censored    6555.0  56.0  27.700001   12.0   \n",
       "4    Women  140.0  82.0  368.0       CHD    3515.0  61.0  29.100000   10.0   \n",
       "..     ...    ...   ...    ...       ...       ...   ...        ...    ...   \n",
       "195    Men  160.0  96.0  284.0       CHD    4464.0  39.0  27.400000    4.0   \n",
       "196    Men  144.0  80.0  200.0  Censored   11688.0  36.0  26.100000    1.0   \n",
       "197  Women  115.0  75.0  234.0  Censored   11688.0  44.0  21.600000   11.0   \n",
       "198  Women  120.0  84.0  192.0  Censored   11688.0  35.0  28.700001   10.0   \n",
       "199  Women  104.0  78.0  231.0  Censored   11688.0  40.0  22.799999   11.0   \n",
       "\n",
       "         id    sbp_ln  age50  sex_cat  bmi22_ln  dum  \n",
       "0    4539.0  4.905275   -7.0        0 -0.085360    1  \n",
       "1    2498.0  4.828314   -9.0        1  0.013544    1  \n",
       "2    2826.0  4.828314  -12.0        0 -0.080422    1  \n",
       "3    4594.0  4.836282    6.0        0  0.230390    1  \n",
       "4    3791.0  4.941642   11.0        1  0.279696    1  \n",
       "..      ...       ...    ...      ...       ...  ...  \n",
       "195  1582.0  5.075174  -11.0        0  0.219501    1  \n",
       "196   143.0  4.969813  -14.0        0  0.170893    1  \n",
       "197  4100.0  4.744932   -6.0        1 -0.018349    1  \n",
       "198  3565.0  4.787492  -15.0        1  0.265855    1  \n",
       "199  4011.0  4.644391  -10.0        1  0.035718    1  \n",
       "\n",
       "[200 rows x 15 columns]"
      ]
     },
     "execution_count": 245,
     "metadata": {},
     "output_type": "execute_result"
    }
   ],
   "source": [
    "fram"
   ]
  },
  {
   "cell_type": "code",
   "execution_count": 250,
   "id": "343813d1-880d-4172-b082-250fcd870ac3",
   "metadata": {},
   "outputs": [],
   "source": [
    "X = fram[[\"age50\", \"sex_cat\", \"bmi22_ln\"]]\n",
    "#X = fram[[\"sex_cat\", \"bmi22_ln\"]]\n",
    "y = fram[\"sbp_ln\"]\n",
    "X = sm.add_constant(X)\n",
    "fram_model = sm.OLS(y, X).fit()"
   ]
  },
  {
   "cell_type": "code",
   "execution_count": 251,
   "id": "7a158703-040b-4e04-8aaf-3c27ad655c68",
   "metadata": {},
   "outputs": [
    {
     "data": {
      "text/html": [
       "<table class=\"simpletable\">\n",
       "<caption>OLS Regression Results</caption>\n",
       "<tr>\n",
       "  <th>Dep. Variable:</th>         <td>sbp_ln</td>      <th>  R-squared:         </th> <td>   0.201</td>\n",
       "</tr>\n",
       "<tr>\n",
       "  <th>Model:</th>                   <td>OLS</td>       <th>  Adj. R-squared:    </th> <td>   0.189</td>\n",
       "</tr>\n",
       "<tr>\n",
       "  <th>Method:</th>             <td>Least Squares</td>  <th>  F-statistic:       </th> <td>   16.46</td>\n",
       "</tr>\n",
       "<tr>\n",
       "  <th>Date:</th>             <td>Fri, 17 Nov 2023</td> <th>  Prob (F-statistic):</th> <td>1.40e-09</td>\n",
       "</tr>\n",
       "<tr>\n",
       "  <th>Time:</th>                 <td>12:23:31</td>     <th>  Log-Likelihood:    </th> <td>  102.78</td>\n",
       "</tr>\n",
       "<tr>\n",
       "  <th>No. Observations:</th>      <td>   200</td>      <th>  AIC:               </th> <td>  -197.6</td>\n",
       "</tr>\n",
       "<tr>\n",
       "  <th>Df Residuals:</th>          <td>   196</td>      <th>  BIC:               </th> <td>  -184.4</td>\n",
       "</tr>\n",
       "<tr>\n",
       "  <th>Df Model:</th>              <td>     3</td>      <th>                     </th>     <td> </td>   \n",
       "</tr>\n",
       "<tr>\n",
       "  <th>Covariance Type:</th>      <td>nonrobust</td>    <th>                     </th>     <td> </td>   \n",
       "</tr>\n",
       "</table>\n",
       "<table class=\"simpletable\">\n",
       "<tr>\n",
       "      <td></td>        <th>coef</th>     <th>std err</th>      <th>t</th>      <th>P>|t|</th>  <th>[0.025</th>    <th>0.975]</th>  \n",
       "</tr>\n",
       "<tr>\n",
       "  <th>const</th>    <td>    4.8563</td> <td>    0.020</td> <td>  241.053</td> <td> 0.000</td> <td>    4.817</td> <td>    4.896</td>\n",
       "</tr>\n",
       "<tr>\n",
       "  <th>age50</th>    <td>    0.0065</td> <td>    0.001</td> <td>    5.090</td> <td> 0.000</td> <td>    0.004</td> <td>    0.009</td>\n",
       "</tr>\n",
       "<tr>\n",
       "  <th>sex_cat</th>  <td>    0.0036</td> <td>    0.021</td> <td>    0.174</td> <td> 0.862</td> <td>   -0.038</td> <td>    0.045</td>\n",
       "</tr>\n",
       "<tr>\n",
       "  <th>bmi22_ln</th> <td>    0.2583</td> <td>    0.076</td> <td>    3.407</td> <td> 0.001</td> <td>    0.109</td> <td>    0.408</td>\n",
       "</tr>\n",
       "</table>\n",
       "<table class=\"simpletable\">\n",
       "<tr>\n",
       "  <th>Omnibus:</th>       <td>41.160</td> <th>  Durbin-Watson:     </th> <td>   2.011</td>\n",
       "</tr>\n",
       "<tr>\n",
       "  <th>Prob(Omnibus):</th> <td> 0.000</td> <th>  Jarque-Bera (JB):  </th> <td>  84.071</td>\n",
       "</tr>\n",
       "<tr>\n",
       "  <th>Skew:</th>          <td> 0.976</td> <th>  Prob(JB):          </th> <td>5.55e-19</td>\n",
       "</tr>\n",
       "<tr>\n",
       "  <th>Kurtosis:</th>      <td> 5.505</td> <th>  Cond. No.          </th> <td>    71.9</td>\n",
       "</tr>\n",
       "</table><br/><br/>Notes:<br/>[1] Standard Errors assume that the covariance matrix of the errors is correctly specified."
      ],
      "text/latex": [
       "\\begin{center}\n",
       "\\begin{tabular}{lclc}\n",
       "\\toprule\n",
       "\\textbf{Dep. Variable:}    &     sbp\\_ln      & \\textbf{  R-squared:         } &     0.201   \\\\\n",
       "\\textbf{Model:}            &       OLS        & \\textbf{  Adj. R-squared:    } &     0.189   \\\\\n",
       "\\textbf{Method:}           &  Least Squares   & \\textbf{  F-statistic:       } &     16.46   \\\\\n",
       "\\textbf{Date:}             & Fri, 17 Nov 2023 & \\textbf{  Prob (F-statistic):} &  1.40e-09   \\\\\n",
       "\\textbf{Time:}             &     12:23:31     & \\textbf{  Log-Likelihood:    } &    102.78   \\\\\n",
       "\\textbf{No. Observations:} &         200      & \\textbf{  AIC:               } &    -197.6   \\\\\n",
       "\\textbf{Df Residuals:}     &         196      & \\textbf{  BIC:               } &    -184.4   \\\\\n",
       "\\textbf{Df Model:}         &           3      & \\textbf{                     } &             \\\\\n",
       "\\textbf{Covariance Type:}  &    nonrobust     & \\textbf{                     } &             \\\\\n",
       "\\bottomrule\n",
       "\\end{tabular}\n",
       "\\begin{tabular}{lcccccc}\n",
       "                   & \\textbf{coef} & \\textbf{std err} & \\textbf{t} & \\textbf{P$> |$t$|$} & \\textbf{[0.025} & \\textbf{0.975]}  \\\\\n",
       "\\midrule\n",
       "\\textbf{const}     &       4.8563  &        0.020     &   241.053  &         0.000        &        4.817    &        4.896     \\\\\n",
       "\\textbf{age50}     &       0.0065  &        0.001     &     5.090  &         0.000        &        0.004    &        0.009     \\\\\n",
       "\\textbf{sex\\_cat}  &       0.0036  &        0.021     &     0.174  &         0.862        &       -0.038    &        0.045     \\\\\n",
       "\\textbf{bmi22\\_ln} &       0.2583  &        0.076     &     3.407  &         0.001        &        0.109    &        0.408     \\\\\n",
       "\\bottomrule\n",
       "\\end{tabular}\n",
       "\\begin{tabular}{lclc}\n",
       "\\textbf{Omnibus:}       & 41.160 & \\textbf{  Durbin-Watson:     } &    2.011  \\\\\n",
       "\\textbf{Prob(Omnibus):} &  0.000 & \\textbf{  Jarque-Bera (JB):  } &   84.071  \\\\\n",
       "\\textbf{Skew:}          &  0.976 & \\textbf{  Prob(JB):          } & 5.55e-19  \\\\\n",
       "\\textbf{Kurtosis:}      &  5.505 & \\textbf{  Cond. No.          } &     71.9  \\\\\n",
       "\\bottomrule\n",
       "\\end{tabular}\n",
       "%\\caption{OLS Regression Results}\n",
       "\\end{center}\n",
       "\n",
       "Notes: \\newline\n",
       " [1] Standard Errors assume that the covariance matrix of the errors is correctly specified."
      ],
      "text/plain": [
       "<class 'statsmodels.iolib.summary.Summary'>\n",
       "\"\"\"\n",
       "                            OLS Regression Results                            \n",
       "==============================================================================\n",
       "Dep. Variable:                 sbp_ln   R-squared:                       0.201\n",
       "Model:                            OLS   Adj. R-squared:                  0.189\n",
       "Method:                 Least Squares   F-statistic:                     16.46\n",
       "Date:                Fri, 17 Nov 2023   Prob (F-statistic):           1.40e-09\n",
       "Time:                        12:23:31   Log-Likelihood:                 102.78\n",
       "No. Observations:                 200   AIC:                            -197.6\n",
       "Df Residuals:                     196   BIC:                            -184.4\n",
       "Df Model:                           3                                         \n",
       "Covariance Type:            nonrobust                                         \n",
       "==============================================================================\n",
       "                 coef    std err          t      P>|t|      [0.025      0.975]\n",
       "------------------------------------------------------------------------------\n",
       "const          4.8563      0.020    241.053      0.000       4.817       4.896\n",
       "age50          0.0065      0.001      5.090      0.000       0.004       0.009\n",
       "sex_cat        0.0036      0.021      0.174      0.862      -0.038       0.045\n",
       "bmi22_ln       0.2583      0.076      3.407      0.001       0.109       0.408\n",
       "==============================================================================\n",
       "Omnibus:                       41.160   Durbin-Watson:                   2.011\n",
       "Prob(Omnibus):                  0.000   Jarque-Bera (JB):               84.071\n",
       "Skew:                           0.976   Prob(JB):                     5.55e-19\n",
       "Kurtosis:                       5.505   Cond. No.                         71.9\n",
       "==============================================================================\n",
       "\n",
       "Notes:\n",
       "[1] Standard Errors assume that the covariance matrix of the errors is correctly specified.\n",
       "\"\"\""
      ]
     },
     "execution_count": 251,
     "metadata": {},
     "output_type": "execute_result"
    }
   ],
   "source": [
    "fram_model.summary()"
   ]
  },
  {
   "cell_type": "code",
   "execution_count": 258,
   "id": "8cbe9d8f-8b01-4497-b7a3-ccfc7057007d",
   "metadata": {},
   "outputs": [
    {
     "data": {
      "text/plain": [
       "const       1.00000\n",
       "age50      -7.00000\n",
       "sex_cat     0.00000\n",
       "bmi22_ln   -0.08536\n",
       "Name: 0, dtype: float64"
      ]
     },
     "execution_count": 258,
     "metadata": {},
     "output_type": "execute_result"
    }
   ],
   "source": [
    "new_data =X.iloc[0]\n",
    "new_data"
   ]
  },
  {
   "cell_type": "code",
   "execution_count": 274,
   "id": "5636bce4-1fe5-457a-ad19-da5a62bfa83b",
   "metadata": {},
   "outputs": [],
   "source": [
    "median_ln = fram_model.predict([1, 5, 0, np.log(25/22)])"
   ]
  },
  {
   "cell_type": "code",
   "execution_count": 275,
   "id": "7ee2e0dd-c68f-47db-b537-9dc044d0ec25",
   "metadata": {},
   "outputs": [
    {
     "data": {
      "text/plain": [
       "array([4.92197606])"
      ]
     },
     "execution_count": 275,
     "metadata": {},
     "output_type": "execute_result"
    }
   ],
   "source": [
    "median_ln"
   ]
  },
  {
   "cell_type": "code",
   "execution_count": 276,
   "id": "2e389c00-fda3-4e3c-8881-455b97fe6f9d",
   "metadata": {},
   "outputs": [
    {
     "data": {
      "text/plain": [
       "array([137.27360614])"
      ]
     },
     "execution_count": 276,
     "metadata": {},
     "output_type": "execute_result"
    }
   ],
   "source": [
    "np.exp(median_ln)"
   ]
  },
  {
   "cell_type": "markdown",
   "id": "6b8951f7-8b56-4907-a143-dfd701e2ff52",
   "metadata": {},
   "source": [
    "# 8"
   ]
  },
  {
   "cell_type": "code",
   "execution_count": 288,
   "id": "8039194b-506a-4540-86b7-fbd60679942c",
   "metadata": {},
   "outputs": [
    {
     "ename": "TypeError",
     "evalue": "pointplot() takes from 0 to 1 positional arguments but 3 were given",
     "output_type": "error",
     "traceback": [
      "\u001b[0;31m---------------------------------------------------------------------------\u001b[0m",
      "\u001b[0;31mTypeError\u001b[0m                                 Traceback (most recent call last)",
      "Cell \u001b[0;32mIn[288], line 1\u001b[0m\n\u001b[0;32m----> 1\u001b[0m \u001b[43msns\u001b[49m\u001b[38;5;241;43m.\u001b[39;49m\u001b[43mpointplot\u001b[49m\u001b[43m(\u001b[49m\u001b[43mfram\u001b[49m\u001b[43m,\u001b[49m\u001b[43m \u001b[49m\u001b[38;5;124;43m\"\u001b[39;49m\u001b[38;5;124;43mage\u001b[39;49m\u001b[38;5;124;43m\"\u001b[39;49m\u001b[43m,\u001b[49m\u001b[43m \u001b[49m\u001b[38;5;124;43m\"\u001b[39;49m\u001b[38;5;124;43mresid\u001b[39;49m\u001b[38;5;124;43m\"\u001b[39;49m\u001b[43m)\u001b[49m\n\u001b[1;32m      2\u001b[0m plt\u001b[38;5;241m.\u001b[39maxhline(\u001b[38;5;241m0\u001b[39m)\n",
      "\u001b[0;31mTypeError\u001b[0m: pointplot() takes from 0 to 1 positional arguments but 3 were given"
     ]
    }
   ],
   "source": [
    "sns.x(fram, \"age\", \"resid\")\n",
    "plt.axhline(0)"
   ]
  },
  {
   "cell_type": "code",
   "execution_count": 282,
   "id": "fad414a4-fbee-46c5-8696-2ee0fe402117",
   "metadata": {},
   "outputs": [
    {
     "data": {
      "text/plain": [
       "<matplotlib.lines.Line2D at 0x7fc4400b9a50>"
      ]
     },
     "execution_count": 282,
     "metadata": {},
     "output_type": "execute_result"
    },
    {
     "data": {
      "image/png": "[encoded data removed]",
      "text/plain": [
       "<Figure size 640x480 with 1 Axes>"
      ]
     },
     "metadata": {},
     "output_type": "display_data"
    }
   ],
   "source": [
    "plt.scatter(fram.bmi22_ln, fram_model.resid)\n",
    "plt.axhline(0)"
   ]
  },
  {
   "cell_type": "code",
   "execution_count": 285,
   "id": "38b82fdd-7d7a-4d1f-97b8-39978eb9984f",
   "metadata": {},
   "outputs": [
    {
     "data": {
      "text/plain": [
       "<Axes: xlabel='sex', ylabel='resid'>"
      ]
     },
     "execution_count": 285,
     "metadata": {},
     "output_type": "execute_result"
    },
    {
     "data": {
      "image/png": "[encoded data removed]",
      "text/plain": [
       "<Figure size 640x480 with 1 Axes>"
      ]
     },
     "metadata": {},
     "output_type": "display_data"
    }
   ],
   "source": [
    "fram[\"resid\"] = fram_model.resid\n",
    "sns.boxplot(fram, x=\"sex\", y=\"resid\")"
   ]
  },
  {
   "cell_type": "code",
   "execution_count": 289,
   "id": "784e2a44-f3b5-454e-93f9-f3cda60d5c48",
   "metadata": {},
   "outputs": [
    {
     "data": {
      "image/png": "[encoded data removed]",
      "text/plain": [
       "<Figure size 640x480 with 1 Axes>"
      ]
     },
     "metadata": {},
     "output_type": "display_data"
    }
   ],
   "source": [
    "stats.probplot(fram.resid, dist=\"norm\", plot=plt)\n",
    "plt.show()"
   ]
  },
  {
   "cell_type": "code",
   "execution_count": null,
   "id": "0dfbf437-4522-48d3-9b7b-9fb190ca4758",
   "metadata": {},
   "outputs": [],
   "source": []
  },
  {
   "cell_type": "code",
   "execution_count": 291,
   "id": "883a3096-aa1d-42e4-881e-41f09ac5ec6b",
   "metadata": {},
   "outputs": [],
   "source": [
    "X = fram[[\"age50\", \"age50_sq\", \"sex_cat\", \"bmi22_ln\"]]\n",
    "#X = fram[[\"sex_cat\", \"bmi22_ln\"]]\n",
    "y = fram[\"sbp_ln\"]\n",
    "X = sm.add_constant(X)\n",
    "fram_model = sm.OLS(y, X).fit()"
   ]
  },
  {
   "cell_type": "code",
   "execution_count": 292,
   "id": "1f11ac9c-5507-4b52-a954-1afa7d7fa6c5",
   "metadata": {},
   "outputs": [
    {
     "data": {
      "text/html": [
       "<table class=\"simpletable\">\n",
       "<caption>OLS Regression Results</caption>\n",
       "<tr>\n",
       "  <th>Dep. Variable:</th>         <td>sbp_ln</td>      <th>  R-squared:         </th> <td>   0.204</td>\n",
       "</tr>\n",
       "<tr>\n",
       "  <th>Model:</th>                   <td>OLS</td>       <th>  Adj. R-squared:    </th> <td>   0.188</td>\n",
       "</tr>\n",
       "<tr>\n",
       "  <th>Method:</th>             <td>Least Squares</td>  <th>  F-statistic:       </th> <td>   12.52</td>\n",
       "</tr>\n",
       "<tr>\n",
       "  <th>Date:</th>             <td>Fri, 17 Nov 2023</td> <th>  Prob (F-statistic):</th> <td>4.38e-09</td>\n",
       "</tr>\n",
       "<tr>\n",
       "  <th>Time:</th>                 <td>13:02:29</td>     <th>  Log-Likelihood:    </th> <td>  103.17</td>\n",
       "</tr>\n",
       "<tr>\n",
       "  <th>No. Observations:</th>      <td>   200</td>      <th>  AIC:               </th> <td>  -196.3</td>\n",
       "</tr>\n",
       "<tr>\n",
       "  <th>Df Residuals:</th>          <td>   195</td>      <th>  BIC:               </th> <td>  -179.8</td>\n",
       "</tr>\n",
       "<tr>\n",
       "  <th>Df Model:</th>              <td>     4</td>      <th>                     </th>     <td> </td>   \n",
       "</tr>\n",
       "<tr>\n",
       "  <th>Covariance Type:</th>      <td>nonrobust</td>    <th>                     </th>     <td> </td>   \n",
       "</tr>\n",
       "</table>\n",
       "<table class=\"simpletable\">\n",
       "<tr>\n",
       "      <td></td>        <th>coef</th>     <th>std err</th>      <th>t</th>      <th>P>|t|</th>  <th>[0.025</th>    <th>0.975]</th>  \n",
       "</tr>\n",
       "<tr>\n",
       "  <th>const</th>    <td>    5.1987</td> <td>    0.395</td> <td>   13.145</td> <td> 0.000</td> <td>    4.419</td> <td>    5.979</td>\n",
       "</tr>\n",
       "<tr>\n",
       "  <th>age50</th>    <td>    0.0190</td> <td>    0.014</td> <td>    1.316</td> <td> 0.190</td> <td>   -0.009</td> <td>    0.048</td>\n",
       "</tr>\n",
       "<tr>\n",
       "  <th>age50_sq</th> <td>   -0.0001</td> <td>    0.000</td> <td>   -0.867</td> <td> 0.387</td> <td>   -0.000</td> <td>    0.000</td>\n",
       "</tr>\n",
       "<tr>\n",
       "  <th>sex_cat</th>  <td>    0.0023</td> <td>    0.021</td> <td>    0.108</td> <td> 0.914</td> <td>   -0.039</td> <td>    0.044</td>\n",
       "</tr>\n",
       "<tr>\n",
       "  <th>bmi22_ln</th> <td>    0.2680</td> <td>    0.077</td> <td>    3.495</td> <td> 0.001</td> <td>    0.117</td> <td>    0.419</td>\n",
       "</tr>\n",
       "</table>\n",
       "<table class=\"simpletable\">\n",
       "<tr>\n",
       "  <th>Omnibus:</th>       <td>39.651</td> <th>  Durbin-Watson:     </th> <td>   2.003</td>\n",
       "</tr>\n",
       "<tr>\n",
       "  <th>Prob(Omnibus):</th> <td> 0.000</td> <th>  Jarque-Bera (JB):  </th> <td>  79.483</td>\n",
       "</tr>\n",
       "<tr>\n",
       "  <th>Skew:</th>          <td> 0.950</td> <th>  Prob(JB):          </th> <td>5.50e-18</td>\n",
       "</tr>\n",
       "<tr>\n",
       "  <th>Kurtosis:</th>      <td> 5.435</td> <th>  Cond. No.          </th> <td>8.58e+04</td>\n",
       "</tr>\n",
       "</table><br/><br/>Notes:<br/>[1] Standard Errors assume that the covariance matrix of the errors is correctly specified.<br/>[2] The condition number is large, 8.58e+04. This might indicate that there are<br/>strong multicollinearity or other numerical problems."
      ],
      "text/latex": [
       "\\begin{center}\n",
       "\\begin{tabular}{lclc}\n",
       "\\toprule\n",
       "\\textbf{Dep. Variable:}    &     sbp\\_ln      & \\textbf{  R-squared:         } &     0.204   \\\\\n",
       "\\textbf{Model:}            &       OLS        & \\textbf{  Adj. R-squared:    } &     0.188   \\\\\n",
       "\\textbf{Method:}           &  Least Squares   & \\textbf{  F-statistic:       } &     12.52   \\\\\n",
       "\\textbf{Date:}             & Fri, 17 Nov 2023 & \\textbf{  Prob (F-statistic):} &  4.38e-09   \\\\\n",
       "\\textbf{Time:}             &     13:02:29     & \\textbf{  Log-Likelihood:    } &    103.17   \\\\\n",
       "\\textbf{No. Observations:} &         200      & \\textbf{  AIC:               } &    -196.3   \\\\\n",
       "\\textbf{Df Residuals:}     &         195      & \\textbf{  BIC:               } &    -179.8   \\\\\n",
       "\\textbf{Df Model:}         &           4      & \\textbf{                     } &             \\\\\n",
       "\\textbf{Covariance Type:}  &    nonrobust     & \\textbf{                     } &             \\\\\n",
       "\\bottomrule\n",
       "\\end{tabular}\n",
       "\\begin{tabular}{lcccccc}\n",
       "                   & \\textbf{coef} & \\textbf{std err} & \\textbf{t} & \\textbf{P$> |$t$|$} & \\textbf{[0.025} & \\textbf{0.975]}  \\\\\n",
       "\\midrule\n",
       "\\textbf{const}     &       5.1987  &        0.395     &    13.145  &         0.000        &        4.419    &        5.979     \\\\\n",
       "\\textbf{age50}     &       0.0190  &        0.014     &     1.316  &         0.190        &       -0.009    &        0.048     \\\\\n",
       "\\textbf{age50\\_sq} &      -0.0001  &        0.000     &    -0.867  &         0.387        &       -0.000    &        0.000     \\\\\n",
       "\\textbf{sex\\_cat}  &       0.0023  &        0.021     &     0.108  &         0.914        &       -0.039    &        0.044     \\\\\n",
       "\\textbf{bmi22\\_ln} &       0.2680  &        0.077     &     3.495  &         0.001        &        0.117    &        0.419     \\\\\n",
       "\\bottomrule\n",
       "\\end{tabular}\n",
       "\\begin{tabular}{lclc}\n",
       "\\textbf{Omnibus:}       & 39.651 & \\textbf{  Durbin-Watson:     } &    2.003  \\\\\n",
       "\\textbf{Prob(Omnibus):} &  0.000 & \\textbf{  Jarque-Bera (JB):  } &   79.483  \\\\\n",
       "\\textbf{Skew:}          &  0.950 & \\textbf{  Prob(JB):          } & 5.50e-18  \\\\\n",
       "\\textbf{Kurtosis:}      &  5.435 & \\textbf{  Cond. No.          } & 8.58e+04  \\\\\n",
       "\\bottomrule\n",
       "\\end{tabular}\n",
       "%\\caption{OLS Regression Results}\n",
       "\\end{center}\n",
       "\n",
       "Notes: \\newline\n",
       " [1] Standard Errors assume that the covariance matrix of the errors is correctly specified. \\newline\n",
       " [2] The condition number is large, 8.58e+04. This might indicate that there are \\newline\n",
       " strong multicollinearity or other numerical problems."
      ],
      "text/plain": [
       "<class 'statsmodels.iolib.summary.Summary'>\n",
       "\"\"\"\n",
       "                            OLS Regression Results                            \n",
       "==============================================================================\n",
       "Dep. Variable:                 sbp_ln   R-squared:                       0.204\n",
       "Model:                            OLS   Adj. R-squared:                  0.188\n",
       "Method:                 Least Squares   F-statistic:                     12.52\n",
       "Date:                Fri, 17 Nov 2023   Prob (F-statistic):           4.38e-09\n",
       "Time:                        13:02:29   Log-Likelihood:                 103.17\n",
       "No. Observations:                 200   AIC:                            -196.3\n",
       "Df Residuals:                     195   BIC:                            -179.8\n",
       "Df Model:                           4                                         \n",
       "Covariance Type:            nonrobust                                         \n",
       "==============================================================================\n",
       "                 coef    std err          t      P>|t|      [0.025      0.975]\n",
       "------------------------------------------------------------------------------\n",
       "const          5.1987      0.395     13.145      0.000       4.419       5.979\n",
       "age50          0.0190      0.014      1.316      0.190      -0.009       0.048\n",
       "age50_sq      -0.0001      0.000     -0.867      0.387      -0.000       0.000\n",
       "sex_cat        0.0023      0.021      0.108      0.914      -0.039       0.044\n",
       "bmi22_ln       0.2680      0.077      3.495      0.001       0.117       0.419\n",
       "==============================================================================\n",
       "Omnibus:                       39.651   Durbin-Watson:                   2.003\n",
       "Prob(Omnibus):                  0.000   Jarque-Bera (JB):               79.483\n",
       "Skew:                           0.950   Prob(JB):                     5.50e-18\n",
       "Kurtosis:                       5.435   Cond. No.                     8.58e+04\n",
       "==============================================================================\n",
       "\n",
       "Notes:\n",
       "[1] Standard Errors assume that the covariance matrix of the errors is correctly specified.\n",
       "[2] The condition number is large, 8.58e+04. This might indicate that there are\n",
       "strong multicollinearity or other numerical problems.\n",
       "\"\"\""
      ]
     },
     "execution_count": 292,
     "metadata": {},
     "output_type": "execute_result"
    }
   ],
   "source": [
    "fram_model.summary()"
   ]
  },
  {
   "cell_type": "code",
   "execution_count": null,
   "id": "60347368-2f6b-4ce4-bef7-b9206490c314",
   "metadata": {},
   "outputs": [],
   "source": []
  }
 ],
 "metadata": {
  "kernelspec": {
   "display_name": "Python 3 (ipykernel)",
   "language": "python",
   "name": "python3"
  },
  "language_info": {
   "codemirror_mode": {
    "name": "ipython",
    "version": 3
   },
   "file_extension": ".py",
   "mimetype": "text/x-python",
   "name": "python",
   "nbconvert_exporter": "python",
   "pygments_lexer": "ipython3",
   "version": "3.10.9"
  }
 },
 "nbformat": 4,
 "nbformat_minor": 5
}
