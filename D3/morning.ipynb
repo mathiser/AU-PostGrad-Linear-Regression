{
 "cells": [
  {
   "cell_type": "code",
   "execution_count": 33,
   "metadata": {},
   "outputs": [
    {
     "name": "stdout",
     "output_type": "stream",
     "text": [
      "Requirement already satisfied: numpy in /home/mathis/work/kurser/2023_regression/.conda/lib/python3.10/site-packages (1.26.2)\n",
      "Requirement already satisfied: pandas in /home/mathis/work/kurser/2023_regression/.conda/lib/python3.10/site-packages (2.1.3)\n",
      "Requirement already satisfied: statsmodels in /home/mathis/work/kurser/2023_regression/.conda/lib/python3.10/site-packages (0.14.0)\n",
      "Requirement already satisfied: requests in /home/mathis/work/kurser/2023_regression/.conda/lib/python3.10/site-packages (2.31.0)\n",
      "Requirement already satisfied: matplotlib in /home/mathis/work/kurser/2023_regression/.conda/lib/python3.10/site-packages (3.8.2)\n",
      "Requirement already satisfied: seaborn in /home/mathis/work/kurser/2023_regression/.conda/lib/python3.10/site-packages (0.13.0)\n",
      "Requirement already satisfied: python-dateutil>=2.8.2 in /home/mathis/work/kurser/2023_regression/.conda/lib/python3.10/site-packages (from pandas) (2.8.2)\n",
      "Requirement already satisfied: pytz>=2020.1 in /home/mathis/work/kurser/2023_regression/.conda/lib/python3.10/site-packages (from pandas) (2023.3.post1)\n",
      "Requirement already satisfied: tzdata>=2022.1 in /home/mathis/work/kurser/2023_regression/.conda/lib/python3.10/site-packages (from pandas) (2023.3)\n",
      "Requirement already satisfied: scipy!=1.9.2,>=1.4 in /home/mathis/work/kurser/2023_regression/.conda/lib/python3.10/site-packages (from statsmodels) (1.11.4)\n",
      "Requirement already satisfied: patsy>=0.5.2 in /home/mathis/work/kurser/2023_regression/.conda/lib/python3.10/site-packages (from statsmodels) (0.5.3)\n",
      "Requirement already satisfied: packaging>=21.3 in /home/mathis/work/kurser/2023_regression/.conda/lib/python3.10/site-packages (from statsmodels) (23.2)\n",
      "Requirement already satisfied: charset-normalizer<4,>=2 in /home/mathis/work/kurser/2023_regression/.conda/lib/python3.10/site-packages (from requests) (3.3.2)\n",
      "Requirement already satisfied: idna<4,>=2.5 in /home/mathis/work/kurser/2023_regression/.conda/lib/python3.10/site-packages (from requests) (3.4)\n",
      "Requirement already satisfied: urllib3<3,>=1.21.1 in /home/mathis/work/kurser/2023_regression/.conda/lib/python3.10/site-packages (from requests) (2.1.0)\n",
      "Requirement already satisfied: certifi>=2017.4.17 in /home/mathis/work/kurser/2023_regression/.conda/lib/python3.10/site-packages (from requests) (2023.11.17)\n",
      "Requirement already satisfied: contourpy>=1.0.1 in /home/mathis/work/kurser/2023_regression/.conda/lib/python3.10/site-packages (from matplotlib) (1.2.0)\n",
      "Requirement already satisfied: cycler>=0.10 in /home/mathis/work/kurser/2023_regression/.conda/lib/python3.10/site-packages (from matplotlib) (0.12.1)\n",
      "Requirement already satisfied: fonttools>=4.22.0 in /home/mathis/work/kurser/2023_regression/.conda/lib/python3.10/site-packages (from matplotlib) (4.45.0)\n",
      "Requirement already satisfied: kiwisolver>=1.3.1 in /home/mathis/work/kurser/2023_regression/.conda/lib/python3.10/site-packages (from matplotlib) (1.4.5)\n",
      "Requirement already satisfied: pillow>=8 in /home/mathis/work/kurser/2023_regression/.conda/lib/python3.10/site-packages (from matplotlib) (10.1.0)\n",
      "Requirement already satisfied: pyparsing>=2.3.1 in /home/mathis/work/kurser/2023_regression/.conda/lib/python3.10/site-packages (from matplotlib) (3.1.1)\n",
      "Requirement already satisfied: six in /home/mathis/work/kurser/2023_regression/.conda/lib/python3.10/site-packages (from patsy>=0.5.2->statsmodels) (1.16.0)\n",
      "Note: you may need to restart the kernel to use updated packages.\n"
     ]
    }
   ],
   "source": [
    "%pip install numpy pandas statsmodels requests matplotlib seaborn\n",
    " "
   ]
  },
  {
   "cell_type": "code",
   "execution_count": 2,
   "metadata": {},
   "outputs": [],
   "source": [
    "\n",
    "import statsmodels.api as sma\n",
    "import statsmodels.formula.api as smf\n",
    "import numpy as np\n",
    "import pandas as pd\n",
    "import os\n",
    "import pyreadstat\n",
    "import matplotlib.pyplot as plt\n",
    "import seaborn as sns\n",
    "from statsmodels.graphics.factorplots import interaction_plot"
   ]
  },
  {
   "cell_type": "code",
   "execution_count": 3,
   "metadata": {},
   "outputs": [],
   "source": [
    "os.makedirs(\"datasets\", exist_ok=True)\n",
    "if not os.path.isfile(\"datasets/serumchol.dta\"):\n",
    "    os.system(\"wget https://mollerfryd.dk/Reg/Data/serumchol.dta -P datasets\")"
   ]
  },
  {
   "cell_type": "code",
   "execution_count": 4,
   "metadata": {},
   "outputs": [
    {
     "data": {
      "text/html": [
       "<div>\n",
       "<style scoped>\n",
       "    .dataframe tbody tr th:only-of-type {\n",
       "        vertical-align: middle;\n",
       "    }\n",
       "\n",
       "    .dataframe tbody tr th {\n",
       "        vertical-align: top;\n",
       "    }\n",
       "\n",
       "    .dataframe thead th {\n",
       "        text-align: right;\n",
       "    }\n",
       "</style>\n",
       "<table border=\"1\" class=\"dataframe\">\n",
       "  <thead>\n",
       "    <tr style=\"text-align: right;\">\n",
       "      <th></th>\n",
       "      <th>sex</th>\n",
       "      <th>sbp</th>\n",
       "      <th>dbp</th>\n",
       "      <th>scl</th>\n",
       "      <th>bmi</th>\n",
       "      <th>id</th>\n",
       "    </tr>\n",
       "  </thead>\n",
       "  <tbody>\n",
       "    <tr>\n",
       "      <th>0</th>\n",
       "      <td>Men</td>\n",
       "      <td>120.0</td>\n",
       "      <td>80.0</td>\n",
       "      <td>267.0</td>\n",
       "      <td>25.000000</td>\n",
       "      <td>2642.0</td>\n",
       "    </tr>\n",
       "    <tr>\n",
       "      <th>1</th>\n",
       "      <td>Men</td>\n",
       "      <td>130.0</td>\n",
       "      <td>78.0</td>\n",
       "      <td>192.0</td>\n",
       "      <td>28.400000</td>\n",
       "      <td>4627.0</td>\n",
       "    </tr>\n",
       "    <tr>\n",
       "      <th>2</th>\n",
       "      <td>Men</td>\n",
       "      <td>144.0</td>\n",
       "      <td>90.0</td>\n",
       "      <td>207.0</td>\n",
       "      <td>25.100000</td>\n",
       "      <td>2568.0</td>\n",
       "    </tr>\n",
       "    <tr>\n",
       "      <th>3</th>\n",
       "      <td>Men</td>\n",
       "      <td>92.0</td>\n",
       "      <td>66.0</td>\n",
       "      <td>231.0</td>\n",
       "      <td>26.200001</td>\n",
       "      <td>4192.0</td>\n",
       "    </tr>\n",
       "    <tr>\n",
       "      <th>4</th>\n",
       "      <td>Men</td>\n",
       "      <td>162.0</td>\n",
       "      <td>98.0</td>\n",
       "      <td>271.0</td>\n",
       "      <td>28.400000</td>\n",
       "      <td>3977.0</td>\n",
       "    </tr>\n",
       "    <tr>\n",
       "      <th>...</th>\n",
       "      <td>...</td>\n",
       "      <td>...</td>\n",
       "      <td>...</td>\n",
       "      <td>...</td>\n",
       "      <td>...</td>\n",
       "      <td>...</td>\n",
       "    </tr>\n",
       "    <tr>\n",
       "      <th>4694</th>\n",
       "      <td>Men</td>\n",
       "      <td>130.0</td>\n",
       "      <td>88.0</td>\n",
       "      <td>213.0</td>\n",
       "      <td>28.400000</td>\n",
       "      <td>3195.0</td>\n",
       "    </tr>\n",
       "    <tr>\n",
       "      <th>4695</th>\n",
       "      <td>Women</td>\n",
       "      <td>112.0</td>\n",
       "      <td>68.0</td>\n",
       "      <td>252.0</td>\n",
       "      <td>22.000000</td>\n",
       "      <td>1674.0</td>\n",
       "    </tr>\n",
       "    <tr>\n",
       "      <th>4696</th>\n",
       "      <td>Men</td>\n",
       "      <td>112.0</td>\n",
       "      <td>76.0</td>\n",
       "      <td>177.0</td>\n",
       "      <td>23.500000</td>\n",
       "      <td>4526.0</td>\n",
       "    </tr>\n",
       "    <tr>\n",
       "      <th>4697</th>\n",
       "      <td>Women</td>\n",
       "      <td>125.0</td>\n",
       "      <td>75.0</td>\n",
       "      <td>244.0</td>\n",
       "      <td>30.400000</td>\n",
       "      <td>4536.0</td>\n",
       "    </tr>\n",
       "    <tr>\n",
       "      <th>4698</th>\n",
       "      <td>Women</td>\n",
       "      <td>142.0</td>\n",
       "      <td>70.0</td>\n",
       "      <td>255.0</td>\n",
       "      <td>23.299999</td>\n",
       "      <td>1786.0</td>\n",
       "    </tr>\n",
       "  </tbody>\n",
       "</table>\n",
       "<p>4699 rows × 6 columns</p>\n",
       "</div>"
      ],
      "text/plain": [
       "        sex    sbp   dbp    scl        bmi      id\n",
       "0       Men  120.0  80.0  267.0  25.000000  2642.0\n",
       "1       Men  130.0  78.0  192.0  28.400000  4627.0\n",
       "2       Men  144.0  90.0  207.0  25.100000  2568.0\n",
       "3       Men   92.0  66.0  231.0  26.200001  4192.0\n",
       "4       Men  162.0  98.0  271.0  28.400000  3977.0\n",
       "...     ...    ...   ...    ...        ...     ...\n",
       "4694    Men  130.0  88.0  213.0  28.400000  3195.0\n",
       "4695  Women  112.0  68.0  252.0  22.000000  1674.0\n",
       "4696    Men  112.0  76.0  177.0  23.500000  4526.0\n",
       "4697  Women  125.0  75.0  244.0  30.400000  4536.0\n",
       "4698  Women  142.0  70.0  255.0  23.299999  1786.0\n",
       "\n",
       "[4699 rows x 6 columns]"
      ]
     },
     "execution_count": 4,
     "metadata": {},
     "output_type": "execute_result"
    }
   ],
   "source": [
    "serum = pd.read_stata(\"datasets/serumchol.dta\")\n",
    "serum"
   ]
  },
  {
   "cell_type": "markdown",
   "metadata": {},
   "source": [
    "# 1"
   ]
  },
  {
   "cell_type": "code",
   "execution_count": 5,
   "metadata": {},
   "outputs": [],
   "source": [
    "bins = [0, 10, 18.5, 25, 30, 60]\n",
    "names = ['<10', '10-18.5', '18.5-25', \"25-30\", '30-60']\n",
    "\n",
    "serum['bmi_who'] = pd.cut(serum['bmi'], bins, labels=names)\n",
    "serum[\"bmi_cat\"] = serum['bmi_who'].cat.codes\n",
    "serum[\"sex_cat\"] = serum[\"sex\"].astype(\"category\").cat.codes"
   ]
  },
  {
   "cell_type": "code",
   "execution_count": 6,
   "metadata": {},
   "outputs": [
    {
     "data": {
      "text/plain": [
       "<Axes: xlabel='bmi_who', ylabel='scl'>"
      ]
     },
     "execution_count": 6,
     "metadata": {},
     "output_type": "execute_result"
    },
    {
     "data": {
      "image/png": "[encoded data removed]",
      "text/plain": [
       "<Figure size 640x480 with 1 Axes>"
      ]
     },
     "metadata": {},
     "output_type": "display_data"
    }
   ],
   "source": [
    "# Check if scl differs across bmi_cat\n",
    "sns.boxplot(serum, x=\"bmi_who\", y=\"scl\")"
   ]
  },
  {
   "cell_type": "code",
   "execution_count": 7,
   "metadata": {},
   "outputs": [],
   "source": [
    "# Looks like the value increases. No: it is not the same across groups."
   ]
  },
  {
   "cell_type": "markdown",
   "metadata": {},
   "source": [
    "# 2"
   ]
  },
  {
   "cell_type": "code",
   "execution_count": 8,
   "metadata": {},
   "outputs": [
    {
     "data": {
      "text/html": [
       "<table class=\"simpletable\">\n",
       "<caption>OLS Regression Results</caption>\n",
       "<tr>\n",
       "  <th>Dep. Variable:</th>           <td>scl</td>       <th>  R-squared:         </th> <td>   0.059</td> \n",
       "</tr>\n",
       "<tr>\n",
       "  <th>Model:</th>                   <td>OLS</td>       <th>  Adj. R-squared:    </th> <td>   0.058</td> \n",
       "</tr>\n",
       "<tr>\n",
       "  <th>Method:</th>             <td>Least Squares</td>  <th>  F-statistic:       </th> <td>   57.85</td> \n",
       "</tr>\n",
       "<tr>\n",
       "  <th>Date:</th>             <td>Tue, 21 Nov 2023</td> <th>  Prob (F-statistic):</th> <td>1.41e-58</td> \n",
       "</tr>\n",
       "<tr>\n",
       "  <th>Time:</th>                 <td>11:31:07</td>     <th>  Log-Likelihood:    </th> <td> -24153.</td> \n",
       "</tr>\n",
       "<tr>\n",
       "  <th>No. Observations:</th>      <td>  4658</td>      <th>  AIC:               </th> <td>4.832e+04</td>\n",
       "</tr>\n",
       "<tr>\n",
       "  <th>Df Residuals:</th>          <td>  4652</td>      <th>  BIC:               </th> <td>4.836e+04</td>\n",
       "</tr>\n",
       "<tr>\n",
       "  <th>Df Model:</th>              <td>     5</td>      <th>                     </th>     <td> </td>    \n",
       "</tr>\n",
       "<tr>\n",
       "  <th>Covariance Type:</th>      <td>nonrobust</td>    <th>                     </th>     <td> </td>    \n",
       "</tr>\n",
       "</table>\n",
       "<table class=\"simpletable\">\n",
       "<tr>\n",
       "            <td></td>               <th>coef</th>     <th>std err</th>      <th>t</th>      <th>P>|t|</th>  <th>[0.025</th>    <th>0.975]</th>  \n",
       "</tr>\n",
       "<tr>\n",
       "  <th>Intercept</th>             <td>  139.4493</td> <td>    3.305</td> <td>   42.189</td> <td> 0.000</td> <td>  132.969</td> <td>  145.929</td>\n",
       "</tr>\n",
       "<tr>\n",
       "  <th>C(bmi_who)[T.10-18.5]</th> <td>   22.3259</td> <td>    4.136</td> <td>    5.398</td> <td> 0.000</td> <td>   14.218</td> <td>   30.434</td>\n",
       "</tr>\n",
       "<tr>\n",
       "  <th>C(bmi_who)[T.18.5-25]</th> <td>   33.3361</td> <td>    1.473</td> <td>   22.631</td> <td> 0.000</td> <td>   30.448</td> <td>   36.224</td>\n",
       "</tr>\n",
       "<tr>\n",
       "  <th>C(bmi_who)[T.25-30]</th>   <td>   42.6084</td> <td>    1.631</td> <td>   26.132</td> <td> 0.000</td> <td>   39.412</td> <td>   45.805</td>\n",
       "</tr>\n",
       "<tr>\n",
       "  <th>C(bmi_who)[T.30-60]</th>   <td>   41.1789</td> <td>    2.152</td> <td>   19.137</td> <td> 0.000</td> <td>   36.960</td> <td>   45.398</td>\n",
       "</tr>\n",
       "<tr>\n",
       "  <th>C(sex)[T.Women]</th>       <td>    3.0980</td> <td>    1.300</td> <td>    2.384</td> <td> 0.017</td> <td>    0.550</td> <td>    5.646</td>\n",
       "</tr>\n",
       "<tr>\n",
       "  <th>sbp</th>                   <td>    0.3716</td> <td>    0.029</td> <td>   12.746</td> <td> 0.000</td> <td>    0.314</td> <td>    0.429</td>\n",
       "</tr>\n",
       "</table>\n",
       "<table class=\"simpletable\">\n",
       "<tr>\n",
       "  <th>Omnibus:</th>       <td>660.251</td> <th>  Durbin-Watson:     </th> <td>   1.943</td>\n",
       "</tr>\n",
       "<tr>\n",
       "  <th>Prob(Omnibus):</th> <td> 0.000</td>  <th>  Jarque-Bera (JB):  </th> <td>1570.022</td>\n",
       "</tr>\n",
       "<tr>\n",
       "  <th>Skew:</th>          <td> 0.814</td>  <th>  Prob(JB):          </th> <td>    0.00</td>\n",
       "</tr>\n",
       "<tr>\n",
       "  <th>Kurtosis:</th>      <td> 5.332</td>  <th>  Cond. No.          </th> <td>1.04e+17</td>\n",
       "</tr>\n",
       "</table><br/><br/>Notes:<br/>[1] Standard Errors assume that the covariance matrix of the errors is correctly specified.<br/>[2] The smallest eigenvalue is 7.81e-27. This might indicate that there are<br/>strong multicollinearity problems or that the design matrix is singular."
      ],
      "text/latex": [
       "\\begin{center}\n",
       "\\begin{tabular}{lclc}\n",
       "\\toprule\n",
       "\\textbf{Dep. Variable:}         &       scl        & \\textbf{  R-squared:         } &     0.059   \\\\\n",
       "\\textbf{Model:}                 &       OLS        & \\textbf{  Adj. R-squared:    } &     0.058   \\\\\n",
       "\\textbf{Method:}                &  Least Squares   & \\textbf{  F-statistic:       } &     57.85   \\\\\n",
       "\\textbf{Date:}                  & Tue, 21 Nov 2023 & \\textbf{  Prob (F-statistic):} &  1.41e-58   \\\\\n",
       "\\textbf{Time:}                  &     11:31:07     & \\textbf{  Log-Likelihood:    } &   -24153.   \\\\\n",
       "\\textbf{No. Observations:}      &        4658      & \\textbf{  AIC:               } & 4.832e+04   \\\\\n",
       "\\textbf{Df Residuals:}          &        4652      & \\textbf{  BIC:               } & 4.836e+04   \\\\\n",
       "\\textbf{Df Model:}              &           5      & \\textbf{                     } &             \\\\\n",
       "\\textbf{Covariance Type:}       &    nonrobust     & \\textbf{                     } &             \\\\\n",
       "\\bottomrule\n",
       "\\end{tabular}\n",
       "\\begin{tabular}{lcccccc}\n",
       "                                & \\textbf{coef} & \\textbf{std err} & \\textbf{t} & \\textbf{P$> |$t$|$} & \\textbf{[0.025} & \\textbf{0.975]}  \\\\\n",
       "\\midrule\n",
       "\\textbf{Intercept}              &     139.4493  &        3.305     &    42.189  &         0.000        &      132.969    &      145.929     \\\\\n",
       "\\textbf{C(bmi\\_who)[T.10-18.5]} &      22.3259  &        4.136     &     5.398  &         0.000        &       14.218    &       30.434     \\\\\n",
       "\\textbf{C(bmi\\_who)[T.18.5-25]} &      33.3361  &        1.473     &    22.631  &         0.000        &       30.448    &       36.224     \\\\\n",
       "\\textbf{C(bmi\\_who)[T.25-30]}   &      42.6084  &        1.631     &    26.132  &         0.000        &       39.412    &       45.805     \\\\\n",
       "\\textbf{C(bmi\\_who)[T.30-60]}   &      41.1789  &        2.152     &    19.137  &         0.000        &       36.960    &       45.398     \\\\\n",
       "\\textbf{C(sex)[T.Women]}        &       3.0980  &        1.300     &     2.384  &         0.017        &        0.550    &        5.646     \\\\\n",
       "\\textbf{sbp}                    &       0.3716  &        0.029     &    12.746  &         0.000        &        0.314    &        0.429     \\\\\n",
       "\\bottomrule\n",
       "\\end{tabular}\n",
       "\\begin{tabular}{lclc}\n",
       "\\textbf{Omnibus:}       & 660.251 & \\textbf{  Durbin-Watson:     } &    1.943  \\\\\n",
       "\\textbf{Prob(Omnibus):} &   0.000 & \\textbf{  Jarque-Bera (JB):  } & 1570.022  \\\\\n",
       "\\textbf{Skew:}          &   0.814 & \\textbf{  Prob(JB):          } &     0.00  \\\\\n",
       "\\textbf{Kurtosis:}      &   5.332 & \\textbf{  Cond. No.          } & 1.04e+17  \\\\\n",
       "\\bottomrule\n",
       "\\end{tabular}\n",
       "%\\caption{OLS Regression Results}\n",
       "\\end{center}\n",
       "\n",
       "Notes: \\newline\n",
       " [1] Standard Errors assume that the covariance matrix of the errors is correctly specified. \\newline\n",
       " [2] The smallest eigenvalue is 7.81e-27. This might indicate that there are \\newline\n",
       " strong multicollinearity problems or that the design matrix is singular."
      ],
      "text/plain": [
       "<class 'statsmodels.iolib.summary.Summary'>\n",
       "\"\"\"\n",
       "                            OLS Regression Results                            \n",
       "==============================================================================\n",
       "Dep. Variable:                    scl   R-squared:                       0.059\n",
       "Model:                            OLS   Adj. R-squared:                  0.058\n",
       "Method:                 Least Squares   F-statistic:                     57.85\n",
       "Date:                Tue, 21 Nov 2023   Prob (F-statistic):           1.41e-58\n",
       "Time:                        11:31:07   Log-Likelihood:                -24153.\n",
       "No. Observations:                4658   AIC:                         4.832e+04\n",
       "Df Residuals:                    4652   BIC:                         4.836e+04\n",
       "Df Model:                           5                                         \n",
       "Covariance Type:            nonrobust                                         \n",
       "=========================================================================================\n",
       "                            coef    std err          t      P>|t|      [0.025      0.975]\n",
       "-----------------------------------------------------------------------------------------\n",
       "Intercept               139.4493      3.305     42.189      0.000     132.969     145.929\n",
       "C(bmi_who)[T.10-18.5]    22.3259      4.136      5.398      0.000      14.218      30.434\n",
       "C(bmi_who)[T.18.5-25]    33.3361      1.473     22.631      0.000      30.448      36.224\n",
       "C(bmi_who)[T.25-30]      42.6084      1.631     26.132      0.000      39.412      45.805\n",
       "C(bmi_who)[T.30-60]      41.1789      2.152     19.137      0.000      36.960      45.398\n",
       "C(sex)[T.Women]           3.0980      1.300      2.384      0.017       0.550       5.646\n",
       "sbp                       0.3716      0.029     12.746      0.000       0.314       0.429\n",
       "==============================================================================\n",
       "Omnibus:                      660.251   Durbin-Watson:                   1.943\n",
       "Prob(Omnibus):                  0.000   Jarque-Bera (JB):             1570.022\n",
       "Skew:                           0.814   Prob(JB):                         0.00\n",
       "Kurtosis:                       5.332   Cond. No.                     1.04e+17\n",
       "==============================================================================\n",
       "\n",
       "Notes:\n",
       "[1] Standard Errors assume that the covariance matrix of the errors is correctly specified.\n",
       "[2] The smallest eigenvalue is 7.81e-27. This might indicate that there are\n",
       "strong multicollinearity problems or that the design matrix is singular.\n",
       "\"\"\""
      ]
     },
     "execution_count": 8,
     "metadata": {},
     "output_type": "execute_result"
    }
   ],
   "source": [
    "# Lets fit a linear model to find the correlation.\n",
    "y = serum[\"scl\"]\n",
    "X = serum[[\"sbp\", \"bmi_cat\", \"sex_cat\"]]\n",
    "model1 = smf.ols(formula=\"scl ~ sbp + C(bmi_who) + C(sex)\", data=serum).fit()  # R interface - cooooool\n",
    "model1.summary()"
   ]
  },
  {
   "cell_type": "code",
   "execution_count": 9,
   "metadata": {},
   "outputs": [],
   "source": [
    "# scl = C(bmi_who)[T.10-18.5] * 22.3259 +\n",
    "#       C(bmi_who)[T.18.5-25] * 33.3361 + \n",
    "#       C(bmi_who)[T.25-30]\t* 42.6084 + \n",
    "#       C(bmi_who)[T.30-60]\t* 41.1789\n",
    "#       C(sex)[T.Women] * 3.0980 +\n",
    "#       sbp * 0.3688 +\n",
    "#       139.4493"
   ]
  },
  {
   "cell_type": "markdown",
   "metadata": {},
   "source": [
    "# 3"
   ]
  },
  {
   "cell_type": "markdown",
   "metadata": {},
   "source": [
    "## Explaining coefficients\n",
    "sbp: Estimated to 0.3716 [0.314; 0.429] CI.  0 not in CI, thus significant relation.\n",
    "\n",
    "bmi30-: Estimated to 41.1789 [36.960; 45.398] CI. Compare to have a BMI> 10, scl is expected to be 41.1789 higher with BMI between 30 and 60\n",
    "\n",
    "Women are expected to have a scl 3.0980 higher than men\n",
    "\n",
    "\n",
    "## The relationship betwqeen scl ~sbp, woman, bmi=26 is:\n",
    " scl = 1 * 42.6084 + \n",
    "       1 * 3.0980 +\n",
    "       sbp * 0.3688 +\n",
    "       139.4493\n",
    "\n",
    "## Make a plot of the relationship between the expected serum cholesterol and systolic blood pressure for the eight different combinations of sex and bmi_who."
   ]
  },
  {
   "cell_type": "code",
   "execution_count": 10,
   "metadata": {},
   "outputs": [
    {
     "data": {
      "image/png": "[encoded data removed]",
      "text/plain": [
       "<Figure size 640x480 with 1 Axes>"
      ]
     },
     "metadata": {},
     "output_type": "display_data"
    }
   ],
   "source": [
    "fig, ax = plt.subplots()\n",
    "\n",
    "comb = []\n",
    "for b in ['<10', '10-18.5', '18.5-25','25-30','30-60']:\n",
    "    for s in [\"Women\", \"Men\"]:\n",
    "        new_data = pd.DataFrame({\"bmi_who\": [b, b],\n",
    "                                 \"sex\": [s, s],\n",
    "                                 \"sbp\": [100, 200]})\n",
    "        new_ = model1.predict(new_data)\n",
    "        ax.plot([100, 200], [new_[0], new_[1]], label=f\"BMI: {b}, Sex: {s}\")\n",
    "        ax.legend()\n"
   ]
  },
  {
   "cell_type": "markdown",
   "metadata": {},
   "source": [
    "Write down the estimated relationship between serum cholesterol and BMI for a\n",
    "man with a systolic blood pressure of 130 mmHg"
   ]
  },
  {
   "cell_type": "markdown",
   "metadata": {},
   "source": [
    " scl = C(bmi_who)[T.10-18.5] * 22.3259 +  \n",
    "       C(bmi_who)[T.18.5-25] * 33.3361 +   \n",
    "       C(bmi_who)[T.25-30]\t* 42.6084 +   \n",
    "       C(bmi_who)[T.30-60]\t* 41.1789  \n",
    "       130 * 0.3688 +  \n",
    "       139.4493  "
   ]
  },
  {
   "cell_type": "code",
   "execution_count": 32,
   "metadata": {},
   "outputs": [
    {
     "name": "stdout",
     "output_type": "stream",
     "text": [
      "187.76066685177034\n",
      "210.0865452418198\n",
      "221.09675815661222\n",
      "230.36903811775971\n",
      "228.93959261754554\n"
     ]
    },
    {
     "data": {
      "text/plain": [
       "(150.0, 300.0)"
      ]
     },
     "execution_count": 32,
     "metadata": {},
     "output_type": "execute_result"
    },
    {
     "data": {
      "image/png": "[encoded data removed]",
      "text/plain": [
       "<Figure size 640x480 with 1 Axes>"
      ]
     },
     "metadata": {},
     "output_type": "display_data"
    }
   ],
   "source": [
    "# Make a plot of the relationship between the expected serum cholesterol and BMI for a man with a systolic blood pressure of 130 mmHg.\n",
    "fig, ax = plt.subplots()\n",
    "bmis = ['<10', '10-18.5', '18.5-25','25-30','30-60']\n",
    "new_data = pd.DataFrame({\"bmi_who\": bmis,\n",
    "                            \"sex\": [\"Men\", \"Men\", \"Men\", \"Men\", \"Men\"],\n",
    "                            \"sbp\": [130, 130, 130, 130, 130]})\n",
    "new_ = model1.predict(new_data)\n",
    "for i, n in enumerate(new_):\n",
    "    print(n)\n",
    "    #ax.plot(bmis[i], n, label=f\"BMI: {bmis[i]}, Sex: Men, marker\", marker=\"o\")\n",
    "    ax.bar(bmis[i], n, label=f\"BMI: {bmis[i]}, Sex: Men, marker\")\n",
    "ax.legend()\n",
    "ax.set_ylim((150, 300))\n"
   ]
  },
  {
   "cell_type": "markdown",
   "metadata": {},
   "source": [
    "# 4"
   ]
  },
  {
   "cell_type": "code",
   "execution_count": 12,
   "metadata": {},
   "outputs": [],
   "source": [
    "# Find the expected scl, with 95% confidence interval, for a subject with sbp=85, sex=women and bmi_who=18.5-.\n",
    "# Help here: https://stackoverflow.com/questions/17559408/confidence-and-prediction-intervals-with-statsmodels\n",
    "new_data = pd.DataFrame({\"bmi_who\": bmis[0],\n",
    "                         \"sex\": [\"Women\"],\n",
    "                         \"sbp\": [85]})\n",
    "res = model1.get_prediction(new_data)"
   ]
  },
  {
   "cell_type": "code",
   "execution_count": 13,
   "metadata": {},
   "outputs": [
    {
     "name": "stdout",
     "output_type": "stream",
     "text": [
      "[174.13550506] [[171.32354255 176.94746758]]\n"
     ]
    },
    {
     "data": {
      "text/html": [
       "<div>\n",
       "<style scoped>\n",
       "    .dataframe tbody tr th:only-of-type {\n",
       "        vertical-align: middle;\n",
       "    }\n",
       "\n",
       "    .dataframe tbody tr th {\n",
       "        vertical-align: top;\n",
       "    }\n",
       "\n",
       "    .dataframe thead th {\n",
       "        text-align: right;\n",
       "    }\n",
       "</style>\n",
       "<table border=\"1\" class=\"dataframe\">\n",
       "  <thead>\n",
       "    <tr style=\"text-align: right;\">\n",
       "      <th></th>\n",
       "      <th>mean</th>\n",
       "      <th>mean_se</th>\n",
       "      <th>mean_ci_lower</th>\n",
       "      <th>mean_ci_upper</th>\n",
       "      <th>obs_ci_lower</th>\n",
       "      <th>obs_ci_upper</th>\n",
       "    </tr>\n",
       "  </thead>\n",
       "  <tbody>\n",
       "    <tr>\n",
       "      <th>0</th>\n",
       "      <td>174.135505</td>\n",
       "      <td>1.434328</td>\n",
       "      <td>171.323543</td>\n",
       "      <td>176.947468</td>\n",
       "      <td>89.294271</td>\n",
       "      <td>258.976739</td>\n",
       "    </tr>\n",
       "  </tbody>\n",
       "</table>\n",
       "</div>"
      ],
      "text/plain": [
       "         mean   mean_se  mean_ci_lower  mean_ci_upper  obs_ci_lower  \\\n",
       "0  174.135505  1.434328     171.323543     176.947468     89.294271   \n",
       "\n",
       "   obs_ci_upper  \n",
       "0    258.976739  "
      ]
     },
     "execution_count": 13,
     "metadata": {},
     "output_type": "execute_result"
    }
   ],
   "source": [
    "print(res.predicted, res.conf_int())\n",
    "res.summary_frame(alpha=0.05)"
   ]
  },
  {
   "cell_type": "markdown",
   "metadata": {},
   "source": [
    "# 5"
   ]
  },
  {
   "cell_type": "code",
   "execution_count": 14,
   "metadata": {},
   "outputs": [],
   "source": [
    "serum[\"sbp2\"] = np.sqrt(serum.sbp)\n"
   ]
  },
  {
   "cell_type": "code",
   "execution_count": 15,
   "metadata": {},
   "outputs": [
    {
     "data": {
      "text/html": [
       "<table class=\"simpletable\">\n",
       "<caption>OLS Regression Results</caption>\n",
       "<tr>\n",
       "  <th>Dep. Variable:</th>           <td>scl</td>       <th>  R-squared:         </th> <td>   0.065</td> \n",
       "</tr>\n",
       "<tr>\n",
       "  <th>Model:</th>                   <td>OLS</td>       <th>  Adj. R-squared:    </th> <td>   0.064</td> \n",
       "</tr>\n",
       "<tr>\n",
       "  <th>Method:</th>             <td>Least Squares</td>  <th>  F-statistic:       </th> <td>   54.16</td> \n",
       "</tr>\n",
       "<tr>\n",
       "  <th>Date:</th>             <td>Tue, 21 Nov 2023</td> <th>  Prob (F-statistic):</th> <td>7.22e-65</td> \n",
       "</tr>\n",
       "<tr>\n",
       "  <th>Time:</th>                 <td>11:31:08</td>     <th>  Log-Likelihood:    </th> <td> -24137.</td> \n",
       "</tr>\n",
       "<tr>\n",
       "  <th>No. Observations:</th>      <td>  4658</td>      <th>  AIC:               </th> <td>4.829e+04</td>\n",
       "</tr>\n",
       "<tr>\n",
       "  <th>Df Residuals:</th>          <td>  4651</td>      <th>  BIC:               </th> <td>4.833e+04</td>\n",
       "</tr>\n",
       "<tr>\n",
       "  <th>Df Model:</th>              <td>     6</td>      <th>                     </th>     <td> </td>    \n",
       "</tr>\n",
       "<tr>\n",
       "  <th>Covariance Type:</th>      <td>nonrobust</td>    <th>                     </th>     <td> </td>    \n",
       "</tr>\n",
       "</table>\n",
       "<table class=\"simpletable\">\n",
       "<tr>\n",
       "            <td></td>               <th>coef</th>     <th>std err</th>      <th>t</th>      <th>P>|t|</th>  <th>[0.025</th>    <th>0.975]</th>  \n",
       "</tr>\n",
       "<tr>\n",
       "  <th>Intercept</th>             <td> -152.5007</td> <td>   50.408</td> <td>   -3.025</td> <td> 0.002</td> <td> -251.323</td> <td>  -53.678</td>\n",
       "</tr>\n",
       "<tr>\n",
       "  <th>C(bmi_who)[T.10-18.5]</th> <td>  -49.1581</td> <td>   12.987</td> <td>   -3.785</td> <td> 0.000</td> <td>  -74.619</td> <td>  -23.697</td>\n",
       "</tr>\n",
       "<tr>\n",
       "  <th>C(bmi_who)[T.18.5-25]</th> <td>  -39.5056</td> <td>   12.635</td> <td>   -3.127</td> <td> 0.002</td> <td>  -64.277</td> <td>  -14.734</td>\n",
       "</tr>\n",
       "<tr>\n",
       "  <th>C(bmi_who)[T.25-30]</th>   <td>  -31.2132</td> <td>   12.822</td> <td>   -2.434</td> <td> 0.015</td> <td>  -56.350</td> <td>   -6.076</td>\n",
       "</tr>\n",
       "<tr>\n",
       "  <th>C(bmi_who)[T.30-60]</th>   <td>  -32.6239</td> <td>   12.895</td> <td>   -2.530</td> <td> 0.011</td> <td>  -57.904</td> <td>   -7.344</td>\n",
       "</tr>\n",
       "<tr>\n",
       "  <th>C(sex)[T.Women]</th>       <td>    3.8409</td> <td>    1.301</td> <td>    2.951</td> <td> 0.003</td> <td>    1.290</td> <td>    6.392</td>\n",
       "</tr>\n",
       "<tr>\n",
       "  <th>sbp</th>                   <td>   -2.1784</td> <td>    0.440</td> <td>   -4.948</td> <td> 0.000</td> <td>   -3.042</td> <td>   -1.315</td>\n",
       "</tr>\n",
       "<tr>\n",
       "  <th>sbp2</th>                  <td>   61.2575</td> <td>   10.554</td> <td>    5.804</td> <td> 0.000</td> <td>   40.567</td> <td>   81.948</td>\n",
       "</tr>\n",
       "</table>\n",
       "<table class=\"simpletable\">\n",
       "<tr>\n",
       "  <th>Omnibus:</th>       <td>655.600</td> <th>  Durbin-Watson:     </th> <td>   1.942</td>\n",
       "</tr>\n",
       "<tr>\n",
       "  <th>Prob(Omnibus):</th> <td> 0.000</td>  <th>  Jarque-Bera (JB):  </th> <td>1548.035</td>\n",
       "</tr>\n",
       "<tr>\n",
       "  <th>Skew:</th>          <td> 0.811</td>  <th>  Prob(JB):          </th> <td>    0.00</td>\n",
       "</tr>\n",
       "<tr>\n",
       "  <th>Kurtosis:</th>      <td> 5.312</td>  <th>  Cond. No.          </th> <td>9.95e+16</td>\n",
       "</tr>\n",
       "</table><br/><br/>Notes:<br/>[1] Standard Errors assume that the covariance matrix of the errors is correctly specified.<br/>[2] The smallest eigenvalue is 8.6e-27. This might indicate that there are<br/>strong multicollinearity problems or that the design matrix is singular."
      ],
      "text/latex": [
       "\\begin{center}\n",
       "\\begin{tabular}{lclc}\n",
       "\\toprule\n",
       "\\textbf{Dep. Variable:}         &       scl        & \\textbf{  R-squared:         } &     0.065   \\\\\n",
       "\\textbf{Model:}                 &       OLS        & \\textbf{  Adj. R-squared:    } &     0.064   \\\\\n",
       "\\textbf{Method:}                &  Least Squares   & \\textbf{  F-statistic:       } &     54.16   \\\\\n",
       "\\textbf{Date:}                  & Tue, 21 Nov 2023 & \\textbf{  Prob (F-statistic):} &  7.22e-65   \\\\\n",
       "\\textbf{Time:}                  &     11:31:08     & \\textbf{  Log-Likelihood:    } &   -24137.   \\\\\n",
       "\\textbf{No. Observations:}      &        4658      & \\textbf{  AIC:               } & 4.829e+04   \\\\\n",
       "\\textbf{Df Residuals:}          &        4651      & \\textbf{  BIC:               } & 4.833e+04   \\\\\n",
       "\\textbf{Df Model:}              &           6      & \\textbf{                     } &             \\\\\n",
       "\\textbf{Covariance Type:}       &    nonrobust     & \\textbf{                     } &             \\\\\n",
       "\\bottomrule\n",
       "\\end{tabular}\n",
       "\\begin{tabular}{lcccccc}\n",
       "                                & \\textbf{coef} & \\textbf{std err} & \\textbf{t} & \\textbf{P$> |$t$|$} & \\textbf{[0.025} & \\textbf{0.975]}  \\\\\n",
       "\\midrule\n",
       "\\textbf{Intercept}              &    -152.5007  &       50.408     &    -3.025  &         0.002        &     -251.323    &      -53.678     \\\\\n",
       "\\textbf{C(bmi\\_who)[T.10-18.5]} &     -49.1581  &       12.987     &    -3.785  &         0.000        &      -74.619    &      -23.697     \\\\\n",
       "\\textbf{C(bmi\\_who)[T.18.5-25]} &     -39.5056  &       12.635     &    -3.127  &         0.002        &      -64.277    &      -14.734     \\\\\n",
       "\\textbf{C(bmi\\_who)[T.25-30]}   &     -31.2132  &       12.822     &    -2.434  &         0.015        &      -56.350    &       -6.076     \\\\\n",
       "\\textbf{C(bmi\\_who)[T.30-60]}   &     -32.6239  &       12.895     &    -2.530  &         0.011        &      -57.904    &       -7.344     \\\\\n",
       "\\textbf{C(sex)[T.Women]}        &       3.8409  &        1.301     &     2.951  &         0.003        &        1.290    &        6.392     \\\\\n",
       "\\textbf{sbp}                    &      -2.1784  &        0.440     &    -4.948  &         0.000        &       -3.042    &       -1.315     \\\\\n",
       "\\textbf{sbp2}                   &      61.2575  &       10.554     &     5.804  &         0.000        &       40.567    &       81.948     \\\\\n",
       "\\bottomrule\n",
       "\\end{tabular}\n",
       "\\begin{tabular}{lclc}\n",
       "\\textbf{Omnibus:}       & 655.600 & \\textbf{  Durbin-Watson:     } &    1.942  \\\\\n",
       "\\textbf{Prob(Omnibus):} &   0.000 & \\textbf{  Jarque-Bera (JB):  } & 1548.035  \\\\\n",
       "\\textbf{Skew:}          &   0.811 & \\textbf{  Prob(JB):          } &     0.00  \\\\\n",
       "\\textbf{Kurtosis:}      &   5.312 & \\textbf{  Cond. No.          } & 9.95e+16  \\\\\n",
       "\\bottomrule\n",
       "\\end{tabular}\n",
       "%\\caption{OLS Regression Results}\n",
       "\\end{center}\n",
       "\n",
       "Notes: \\newline\n",
       " [1] Standard Errors assume that the covariance matrix of the errors is correctly specified. \\newline\n",
       " [2] The smallest eigenvalue is 8.6e-27. This might indicate that there are \\newline\n",
       " strong multicollinearity problems or that the design matrix is singular."
      ],
      "text/plain": [
       "<class 'statsmodels.iolib.summary.Summary'>\n",
       "\"\"\"\n",
       "                            OLS Regression Results                            \n",
       "==============================================================================\n",
       "Dep. Variable:                    scl   R-squared:                       0.065\n",
       "Model:                            OLS   Adj. R-squared:                  0.064\n",
       "Method:                 Least Squares   F-statistic:                     54.16\n",
       "Date:                Tue, 21 Nov 2023   Prob (F-statistic):           7.22e-65\n",
       "Time:                        11:31:08   Log-Likelihood:                -24137.\n",
       "No. Observations:                4658   AIC:                         4.829e+04\n",
       "Df Residuals:                    4651   BIC:                         4.833e+04\n",
       "Df Model:                           6                                         \n",
       "Covariance Type:            nonrobust                                         \n",
       "=========================================================================================\n",
       "                            coef    std err          t      P>|t|      [0.025      0.975]\n",
       "-----------------------------------------------------------------------------------------\n",
       "Intercept              -152.5007     50.408     -3.025      0.002    -251.323     -53.678\n",
       "C(bmi_who)[T.10-18.5]   -49.1581     12.987     -3.785      0.000     -74.619     -23.697\n",
       "C(bmi_who)[T.18.5-25]   -39.5056     12.635     -3.127      0.002     -64.277     -14.734\n",
       "C(bmi_who)[T.25-30]     -31.2132     12.822     -2.434      0.015     -56.350      -6.076\n",
       "C(bmi_who)[T.30-60]     -32.6239     12.895     -2.530      0.011     -57.904      -7.344\n",
       "C(sex)[T.Women]           3.8409      1.301      2.951      0.003       1.290       6.392\n",
       "sbp                      -2.1784      0.440     -4.948      0.000      -3.042      -1.315\n",
       "sbp2                     61.2575     10.554      5.804      0.000      40.567      81.948\n",
       "==============================================================================\n",
       "Omnibus:                      655.600   Durbin-Watson:                   1.942\n",
       "Prob(Omnibus):                  0.000   Jarque-Bera (JB):             1548.035\n",
       "Skew:                           0.811   Prob(JB):                         0.00\n",
       "Kurtosis:                       5.312   Cond. No.                     9.95e+16\n",
       "==============================================================================\n",
       "\n",
       "Notes:\n",
       "[1] Standard Errors assume that the covariance matrix of the errors is correctly specified.\n",
       "[2] The smallest eigenvalue is 8.6e-27. This might indicate that there are\n",
       "strong multicollinearity problems or that the design matrix is singular.\n",
       "\"\"\""
      ]
     },
     "execution_count": 15,
     "metadata": {},
     "output_type": "execute_result"
    }
   ],
   "source": [
    "# Lets fit a linear model to find the correlation.\n",
    "y = serum[\"scl\"]\n",
    "X = serum[[\"sbp\", \"sbp2\", \"bmi_cat\", \"sex_cat\"]]\n",
    "model2 = smf.ols(formula=\"scl ~ sbp + sbp2 + C(bmi_who) + C(sex)\", data=serum).fit()  # R interface - cooooool\n",
    "model2.summary()"
   ]
  },
  {
   "cell_type": "markdown",
   "metadata": {},
   "source": [
    " sbp2 seems to correlate well with scl. In this case, BMI changes to be negatively correlate to scl. R², however, increases slightly. This model makes sense since we expect scl to flatten out at some point.\n",
    "  "
   ]
  },
  {
   "cell_type": "code",
   "execution_count": 16,
   "metadata": {},
   "outputs": [
    {
     "data": {
      "text/html": [
       "<div>\n",
       "<style scoped>\n",
       "    .dataframe tbody tr th:only-of-type {\n",
       "        vertical-align: middle;\n",
       "    }\n",
       "\n",
       "    .dataframe tbody tr th {\n",
       "        vertical-align: top;\n",
       "    }\n",
       "\n",
       "    .dataframe thead th {\n",
       "        text-align: right;\n",
       "    }\n",
       "</style>\n",
       "<table border=\"1\" class=\"dataframe\">\n",
       "  <thead>\n",
       "    <tr style=\"text-align: right;\">\n",
       "      <th></th>\n",
       "      <th>mean</th>\n",
       "      <th>mean_se</th>\n",
       "      <th>mean_ci_lower</th>\n",
       "      <th>mean_ci_upper</th>\n",
       "      <th>obs_ci_lower</th>\n",
       "      <th>obs_ci_upper</th>\n",
       "    </tr>\n",
       "  </thead>\n",
       "  <tbody>\n",
       "    <tr>\n",
       "      <th>0</th>\n",
       "      <td>230.938867</td>\n",
       "      <td>9.890432</td>\n",
       "      <td>211.54893</td>\n",
       "      <td>250.328803</td>\n",
       "      <td>144.244419</td>\n",
       "      <td>317.633314</td>\n",
       "    </tr>\n",
       "  </tbody>\n",
       "</table>\n",
       "</div>"
      ],
      "text/plain": [
       "         mean   mean_se  mean_ci_lower  mean_ci_upper  obs_ci_lower  \\\n",
       "0  230.938867  9.890432      211.54893     250.328803    144.244419   \n",
       "\n",
       "   obs_ci_upper  \n",
       "0    317.633314  "
      ]
     },
     "execution_count": 16,
     "metadata": {},
     "output_type": "execute_result"
    }
   ],
   "source": [
    "new_data = pd.DataFrame({\"bmi_who\": bmis[0],\n",
    "                         \"sex\": [\"Women\"],\n",
    "                         \"sbp\": [85],\n",
    "                         \"sbp2\": [np.sqrt(85)]})\n",
    "res = model2.get_prediction(new_data)\n",
    "res.summary_frame(alpha=0.05)"
   ]
  },
  {
   "cell_type": "markdown",
   "metadata": {},
   "source": [
    "Now the mean is much higher than model1. 230.9 [211.6; 250.3]."
   ]
  },
  {
   "cell_type": "markdown",
   "metadata": {},
   "source": [
    "# 6"
   ]
  },
  {
   "cell_type": "code",
   "execution_count": 17,
   "metadata": {},
   "outputs": [
    {
     "data": {
      "text/html": [
       "<table class=\"simpletable\">\n",
       "<caption>OLS Regression Results</caption>\n",
       "<tr>\n",
       "  <th>Dep. Variable:</th>           <td>scl</td>       <th>  R-squared:         </th> <td>   0.054</td> \n",
       "</tr>\n",
       "<tr>\n",
       "  <th>Model:</th>                   <td>OLS</td>       <th>  Adj. R-squared:    </th> <td>   0.054</td> \n",
       "</tr>\n",
       "<tr>\n",
       "  <th>Method:</th>             <td>Least Squares</td>  <th>  F-statistic:       </th> <td>   89.31</td> \n",
       "</tr>\n",
       "<tr>\n",
       "  <th>Date:</th>             <td>Tue, 21 Nov 2023</td> <th>  Prob (F-statistic):</th> <td>3.48e-56</td> \n",
       "</tr>\n",
       "<tr>\n",
       "  <th>Time:</th>                 <td>11:31:08</td>     <th>  Log-Likelihood:    </th> <td> -24163.</td> \n",
       "</tr>\n",
       "<tr>\n",
       "  <th>No. Observations:</th>      <td>  4658</td>      <th>  AIC:               </th> <td>4.833e+04</td>\n",
       "</tr>\n",
       "<tr>\n",
       "  <th>Df Residuals:</th>          <td>  4654</td>      <th>  BIC:               </th> <td>4.836e+04</td>\n",
       "</tr>\n",
       "<tr>\n",
       "  <th>Df Model:</th>              <td>     3</td>      <th>                     </th>     <td> </td>    \n",
       "</tr>\n",
       "<tr>\n",
       "  <th>Covariance Type:</th>      <td>nonrobust</td>    <th>                     </th>     <td> </td>    \n",
       "</tr>\n",
       "</table>\n",
       "<table class=\"simpletable\">\n",
       "<tr>\n",
       "         <td></td>            <th>coef</th>     <th>std err</th>      <th>t</th>      <th>P>|t|</th>  <th>[0.025</th>    <th>0.975]</th>  \n",
       "</tr>\n",
       "<tr>\n",
       "  <th>Intercept</th>       <td>  153.7528</td> <td>    4.848</td> <td>   31.718</td> <td> 0.000</td> <td>  144.249</td> <td>  163.256</td>\n",
       "</tr>\n",
       "<tr>\n",
       "  <th>C(sex)[T.Women]</th> <td>    2.1519</td> <td>    1.285</td> <td>    1.675</td> <td> 0.094</td> <td>   -0.367</td> <td>    4.670</td>\n",
       "</tr>\n",
       "<tr>\n",
       "  <th>sbp</th>             <td>    0.3687</td> <td>    0.030</td> <td>   12.490</td> <td> 0.000</td> <td>    0.311</td> <td>    0.427</td>\n",
       "</tr>\n",
       "<tr>\n",
       "  <th>bmi</th>             <td>    0.9511</td> <td>    0.165</td> <td>    5.754</td> <td> 0.000</td> <td>    0.627</td> <td>    1.275</td>\n",
       "</tr>\n",
       "</table>\n",
       "<table class=\"simpletable\">\n",
       "<tr>\n",
       "  <th>Omnibus:</th>       <td>657.266</td> <th>  Durbin-Watson:     </th> <td>   1.941</td>\n",
       "</tr>\n",
       "<tr>\n",
       "  <th>Prob(Omnibus):</th> <td> 0.000</td>  <th>  Jarque-Bera (JB):  </th> <td>1533.212</td>\n",
       "</tr>\n",
       "<tr>\n",
       "  <th>Skew:</th>          <td> 0.817</td>  <th>  Prob(JB):          </th> <td>    0.00</td>\n",
       "</tr>\n",
       "<tr>\n",
       "  <th>Kurtosis:</th>      <td> 5.287</td>  <th>  Cond. No.          </th> <td>1.05e+03</td>\n",
       "</tr>\n",
       "</table><br/><br/>Notes:<br/>[1] Standard Errors assume that the covariance matrix of the errors is correctly specified.<br/>[2] The condition number is large, 1.05e+03. This might indicate that there are<br/>strong multicollinearity or other numerical problems."
      ],
      "text/latex": [
       "\\begin{center}\n",
       "\\begin{tabular}{lclc}\n",
       "\\toprule\n",
       "\\textbf{Dep. Variable:}    &       scl        & \\textbf{  R-squared:         } &     0.054   \\\\\n",
       "\\textbf{Model:}            &       OLS        & \\textbf{  Adj. R-squared:    } &     0.054   \\\\\n",
       "\\textbf{Method:}           &  Least Squares   & \\textbf{  F-statistic:       } &     89.31   \\\\\n",
       "\\textbf{Date:}             & Tue, 21 Nov 2023 & \\textbf{  Prob (F-statistic):} &  3.48e-56   \\\\\n",
       "\\textbf{Time:}             &     11:31:08     & \\textbf{  Log-Likelihood:    } &   -24163.   \\\\\n",
       "\\textbf{No. Observations:} &        4658      & \\textbf{  AIC:               } & 4.833e+04   \\\\\n",
       "\\textbf{Df Residuals:}     &        4654      & \\textbf{  BIC:               } & 4.836e+04   \\\\\n",
       "\\textbf{Df Model:}         &           3      & \\textbf{                     } &             \\\\\n",
       "\\textbf{Covariance Type:}  &    nonrobust     & \\textbf{                     } &             \\\\\n",
       "\\bottomrule\n",
       "\\end{tabular}\n",
       "\\begin{tabular}{lcccccc}\n",
       "                         & \\textbf{coef} & \\textbf{std err} & \\textbf{t} & \\textbf{P$> |$t$|$} & \\textbf{[0.025} & \\textbf{0.975]}  \\\\\n",
       "\\midrule\n",
       "\\textbf{Intercept}       &     153.7528  &        4.848     &    31.718  &         0.000        &      144.249    &      163.256     \\\\\n",
       "\\textbf{C(sex)[T.Women]} &       2.1519  &        1.285     &     1.675  &         0.094        &       -0.367    &        4.670     \\\\\n",
       "\\textbf{sbp}             &       0.3687  &        0.030     &    12.490  &         0.000        &        0.311    &        0.427     \\\\\n",
       "\\textbf{bmi}             &       0.9511  &        0.165     &     5.754  &         0.000        &        0.627    &        1.275     \\\\\n",
       "\\bottomrule\n",
       "\\end{tabular}\n",
       "\\begin{tabular}{lclc}\n",
       "\\textbf{Omnibus:}       & 657.266 & \\textbf{  Durbin-Watson:     } &    1.941  \\\\\n",
       "\\textbf{Prob(Omnibus):} &   0.000 & \\textbf{  Jarque-Bera (JB):  } & 1533.212  \\\\\n",
       "\\textbf{Skew:}          &   0.817 & \\textbf{  Prob(JB):          } &     0.00  \\\\\n",
       "\\textbf{Kurtosis:}      &   5.287 & \\textbf{  Cond. No.          } & 1.05e+03  \\\\\n",
       "\\bottomrule\n",
       "\\end{tabular}\n",
       "%\\caption{OLS Regression Results}\n",
       "\\end{center}\n",
       "\n",
       "Notes: \\newline\n",
       " [1] Standard Errors assume that the covariance matrix of the errors is correctly specified. \\newline\n",
       " [2] The condition number is large, 1.05e+03. This might indicate that there are \\newline\n",
       " strong multicollinearity or other numerical problems."
      ],
      "text/plain": [
       "<class 'statsmodels.iolib.summary.Summary'>\n",
       "\"\"\"\n",
       "                            OLS Regression Results                            \n",
       "==============================================================================\n",
       "Dep. Variable:                    scl   R-squared:                       0.054\n",
       "Model:                            OLS   Adj. R-squared:                  0.054\n",
       "Method:                 Least Squares   F-statistic:                     89.31\n",
       "Date:                Tue, 21 Nov 2023   Prob (F-statistic):           3.48e-56\n",
       "Time:                        11:31:08   Log-Likelihood:                -24163.\n",
       "No. Observations:                4658   AIC:                         4.833e+04\n",
       "Df Residuals:                    4654   BIC:                         4.836e+04\n",
       "Df Model:                           3                                         \n",
       "Covariance Type:            nonrobust                                         \n",
       "===================================================================================\n",
       "                      coef    std err          t      P>|t|      [0.025      0.975]\n",
       "-----------------------------------------------------------------------------------\n",
       "Intercept         153.7528      4.848     31.718      0.000     144.249     163.256\n",
       "C(sex)[T.Women]     2.1519      1.285      1.675      0.094      -0.367       4.670\n",
       "sbp                 0.3687      0.030     12.490      0.000       0.311       0.427\n",
       "bmi                 0.9511      0.165      5.754      0.000       0.627       1.275\n",
       "==============================================================================\n",
       "Omnibus:                      657.266   Durbin-Watson:                   1.941\n",
       "Prob(Omnibus):                  0.000   Jarque-Bera (JB):             1533.212\n",
       "Skew:                           0.817   Prob(JB):                         0.00\n",
       "Kurtosis:                       5.287   Cond. No.                     1.05e+03\n",
       "==============================================================================\n",
       "\n",
       "Notes:\n",
       "[1] Standard Errors assume that the covariance matrix of the errors is correctly specified.\n",
       "[2] The condition number is large, 1.05e+03. This might indicate that there are\n",
       "strong multicollinearity or other numerical problems.\n",
       "\"\"\""
      ]
     },
     "execution_count": 17,
     "metadata": {},
     "output_type": "execute_result"
    }
   ],
   "source": [
    "# Lets fit a linear model to find the correlation.\n",
    "y = serum[\"scl\"]\n",
    "X = serum[[\"sbp\", \"bmi\", \"sex_cat\"]]\n",
    "model3 = smf.ols(formula=\"scl ~ sbp + bmi + C(sex)\", data=serum).fit()  # R interface - cooooool\n",
    "model3.summary()"
   ]
  },
  {
   "cell_type": "code",
   "execution_count": 19,
   "metadata": {},
   "outputs": [
    {
     "data": {
      "image/png": "[encoded data removed]",
      "text/plain": [
       "<Figure size 640x480 with 1 Axes>"
      ]
     },
     "metadata": {},
     "output_type": "display_data"
    }
   ],
   "source": [
    "new_data = pd.DataFrame({\"bmi\": [18, 30],\n",
    "                         \"sex\": [\"Men\", \"Men\"],\n",
    "                         \"sbp\": [130, 130]})\n",
    "res = model3.get_prediction(new_data)\n",
    "res.summary_frame(alpha=0.05)\n",
    "plt.plot([18,30], res.predicted, label=\"Man, sbp=130\")\n",
    "plt.xlabel(xlabel=\"BMI\")\n",
    "plt.ylabel(ylabel=\"SBP\")\n",
    "plt.legend()\n",
    "plt.show()"
   ]
  },
  {
   "cell_type": "markdown",
   "metadata": {},
   "source": [
    "# 7"
   ]
  },
  {
   "cell_type": "code",
   "execution_count": null,
   "metadata": {},
   "outputs": [],
   "source": []
  }
 ],
 "metadata": {
  "kernelspec": {
   "display_name": "Python 3",
   "language": "python",
   "name": "python3"
  },
  "language_info": {
   "codemirror_mode": {
    "name": "ipython",
    "version": 3
   },
   "file_extension": ".py",
   "mimetype": "text/x-python",
   "name": "python",
   "nbconvert_exporter": "python",
   "pygments_lexer": "ipython3",
   "version": "3.10.13"
  }
 },
 "nbformat": 4,
 "nbformat_minor": 2
}
